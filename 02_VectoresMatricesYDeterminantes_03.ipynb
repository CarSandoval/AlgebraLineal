{
 "cells": [
  {
   "cell_type": "markdown",
   "id": "19748f76-f110-4bea-b03b-e16db8678ca6",
   "metadata": {},
   "source": [
    "# 2.4 Propiedades y aplicaciones de matrices"
   ]
  },
  {
   "cell_type": "markdown",
   "id": "dfc6e3b3",
   "metadata": {
    "vscode": {
     "languageId": "plaintext"
    }
   },
   "source": [
    "Las matrices ocupan un lugar central en el álgebra lineal, no solo como objetos matemáticos, sino como herramientas fundamentales para resolver una gran variedad de problemas. Uno de sus usos más relevantes es en la resolución de sistemas de ecuaciones lineales, un problema clásico que surge en áreas tan diversas como la ingeniería, la economía, las ciencias computacionales y la física. Gracias a las matrices, podemos representar, manipular y resolver estos sistemas de manera ordenada y eficiente, especialmente cuando se trata de sistemas con muchas incógnitas.\n",
    "\n",
    "Dentro de este contexto, el concepto de matriz inversa resulta particularmente importante. Así como los números reales tienen inversos multiplicativos (por ejemplo, el inverso de 2 es 1/2), algunas matrices también poseen inversas, y esto nos permite “deshacer” el efecto de una matriz, tal como hacemos al dividir por un número en una ecuación. La existencia de la matriz inversa es crucial, porque cuando una matriz asociada a un sistema de ecuaciones es invertible, podemos obtener la solución única del sistema de forma directa y elegante usando operaciones matriciales.\n",
    "\n",
    "Sin embargo, no todas las matrices tienen inversa. Por ello, comprender las propiedades que determinan cuándo una matriz es invertible, así como las características y consecuencias de esta propiedad, resulta esencial. Las condiciones de invertibilidad están ligadas a conceptos como el determinante, el rango y la independencia lineal de los vectores columna o fila.\n",
    "\n",
    "En este capítulo, exploraremos en detalle las propiedades de las matrices relacionadas con la existencia y el cálculo de la inversa, así como algunas aplicaciones clave. El objetivo es que puedas reconocer cuándo una matriz es invertible, entender las implicaciones de esta propiedad y aplicar estos conceptos a la resolución de sistemas de ecuaciones y otros problemas relevantes en álgebra lineal y sus aplicaciones.\n"
   ]
  },
  {
   "cell_type": "markdown",
   "id": "69e34f08-ad18-4bea-9edb-e19ca73f26fe",
   "metadata": {},
   "source": [
    "## 2.4.1 Definición de inversa de una matriz"
   ]
  },
  {
   "cell_type": "markdown",
   "id": "9b264f66",
   "metadata": {
    "vscode": {
     "languageId": "plaintext"
    }
   },
   "source": [
    "\n",
    "Sea $ A $ una matriz cuadrada de orden $ n $ (es decir, una matriz $ n \\times n $) con entradas en el conjunto de los números reales (o en algún otro campo). Decimos que $ A $ es **invertible** (o no singular) si existe otra matriz $ B $ del mismo orden tal que se cumplen las siguientes condiciones:\n",
    "\n",
    "$$\n",
    "A B = B A = I_n\n",
    "$$\n",
    "\n",
    "donde $ I_n $ es la matriz identidad de orden $ n $. A la matriz $ B $ se le llama **inversa** de $ A $ y se denota por $ A^{-1} $. Es decir,\n",
    "\n",
    "$$\n",
    "A^{-1} A = A A^{-1} = I_n\n",
    "$$\n",
    "\n",
    "No todas las matrices cuadradas son invertibles. Una condición necesaria y suficiente para que $ A $ tenga inversa es que su determinante sea distinto de cero, es decir, $ \\det(A) \\neq 0 $.\n",
    "\n",
    "\n"
   ]
  },
  {
   "cell_type": "markdown",
   "id": "e348233e",
   "metadata": {
    "vscode": {
     "languageId": "plaintext"
    }
   },
   "source": [
    "\n",
    "### Cálculo de la inversa de una matriz\n",
    "\n",
    "Una de las formas más directas y prácticas para calcular la inversa de una matriz cuadrada $ A $ es mediante el **método de reducción por filas** (también llamado método de Gauss-Jordan). Este método utiliza operaciones elementales sobre filas para transformar la matriz original en la matriz identidad, aplicando simultáneamente las mismas operaciones a la matriz identidad para obtener la inversa. Los pasos son los siguientes:\n",
    "\n",
    "1. **Construye la matriz aumentada:**  \n",
    "   Escribe la matriz $ A $ junto a la matriz identidad del mismo tamaño, formando la matriz aumentada $ [A \\,|\\, I] $.\n",
    "\n",
    "2. **Aplica operaciones elementales por filas:**  \n",
    "   Mediante operaciones elementales (intercambio de filas, multiplicación de una fila por un escalar distinto de cero, suma de múltiplos de una fila a otra), transforma la parte izquierda ($ A $) de la matriz aumentada en la matriz identidad $ I $.\n",
    "\n",
    "3. **Obtén la inversa:**  \n",
    "   Si logras transformar $ A $ en la identidad, la parte derecha de la matriz aumentada se habrá convertido en $ A^{-1} $. Es decir, $ [A \\,|\\, I] \\longrightarrow [I \\,|\\, A^{-1}] $.\n",
    "\n",
    "4. **Verifica:**  \n",
    "   Si en algún paso no puedes continuar (por ejemplo, si encuentras un pivote cero que no puedes cambiar por otro no nulo), entonces $ A $ no es invertible.\n",
    "\n",
    "Este método es especialmente útil para implementaciones computacionales y es la base de muchos algoritmos en álgebra lineal.\n"
   ]
  },
  {
   "cell_type": "markdown",
   "id": "ff29a1f7",
   "metadata": {},
   "source": [
    "### Ejemplo: Cálculo de la inversa por reducción por filas\n",
    "\n",
    "Supongamos la matriz  \n",
    "$$\n",
    "A = \\begin{pmatrix}\n",
    "2 & 1 \\\\\n",
    "5 & 3 \\\\\n",
    "\\end{pmatrix}\n",
    "$$\n",
    "\n",
    "Vamos a calcular la inversa de $ A $ usando el método de reducción por filas (Gauss-Jordan):\n",
    "\n",
    "Paso 1. Escribe la matriz aumentada $ [A \\,|\\, I] $\n",
    "\n",
    "$$\n",
    "\\left(\n",
    "\\begin{array}{cc|cc}\n",
    "2 & 1 & 1 & 0 \\\\\n",
    "5 & 3 & 0 & 1 \\\\\n",
    "\\end{array}\n",
    "\\right)\n",
    "$$\n",
    "\n",
    "\n",
    "Paso 2. Haz que el elemento (1,1) sea 1 (divide la primera fila por 2)\n",
    "\n",
    "$$\n",
    "F_1 \\leftarrow \\frac{1}{2} F_1\n",
    "$$\n",
    "\n",
    "$$\n",
    "\\left(\n",
    "\\begin{array}{cc|cc}\n",
    "1 & 0.5 & 0.5 & 0 \\\\\n",
    "5 & 3 & 0 & 1 \\\\\n",
    "\\end{array}\n",
    "\\right)\n",
    "$$\n",
    "\n",
    "\n",
    "Paso 3. Haz que el elemento (2,1) sea 0  \n",
    "Resta 5 veces la primera fila a la segunda fila:\n",
    "\n",
    "$$\n",
    "F_2 \\leftarrow F_2 - 5 F_1\n",
    "$$\n",
    "\n",
    "$$\n",
    "\\left(\n",
    "\\begin{array}{cc|cc}\n",
    "1 & 0.5 & 0.5 & 0 \\\\\n",
    "0 & 0.5 & -2.5 & 1 \\\\\n",
    "\\end{array}\n",
    "\\right)\n",
    "$$\n",
    "\n",
    "\n",
    "\n",
    "Paso 4. Haz que el elemento (2,2) sea 1  \n",
    "Divide la segunda fila entre 0.5:\n",
    "\n",
    "$$\n",
    "F_2 \\leftarrow \\frac{1}{0.5} F_2 = 2 F_2\n",
    "$$\n",
    "\n",
    "$$\n",
    "\\left(\n",
    "\\begin{array}{cc|cc}\n",
    "1 & 0.5 & 0.5 & 0 \\\\\n",
    "0 & 1 & -5 & 2 \\\\\n",
    "\\end{array}\n",
    "\\right)\n",
    "$$\n",
    "\n",
    "\n",
    "\n",
    "Paso 5. Haz que el elemento (1,2) sea 0  \n",
    "Resta 0.5 veces la segunda fila a la primera fila:\n",
    "\n",
    "$$\n",
    "F_1 \\leftarrow F_1 - 0.5 F_2\n",
    "$$\n",
    "\n",
    "$$\n",
    "\\left(\n",
    "\\begin{array}{cc|cc}\n",
    "1 & 0 & 0.5 + 2.5 & 0 - 1 \\\\\n",
    "0 & 1 & -5 & 2 \\\\\n",
    "\\end{array}\n",
    "\\right)\n",
    "=\n",
    "\\left(\n",
    "\\begin{array}{cc|cc}\n",
    "1 & 0 & 3 & -1 \\\\\n",
    "0 & 1 & -5 & 2 \\\\\n",
    "\\end{array}\n",
    "\\right)\n",
    "$$\n",
    "\n",
    "\n",
    "Resultado\n",
    "\n",
    "La parte derecha es la inversa de $ A $:\n",
    "$$\n",
    "A^{-1} = \\begin{pmatrix}\n",
    "3 & -1 \\\\\n",
    "-5 & 2 \\\\\n",
    "\\end{pmatrix}\n",
    "$$\n",
    "\n",
    "Puedes comprobar que $ A A^{-1} = I $."
   ]
  },
  {
   "cell_type": "markdown",
   "id": "64148088",
   "metadata": {},
   "source": [
    "### Usando Python"
   ]
  },
  {
   "cell_type": "code",
   "execution_count": 2,
   "id": "d7dbb45b",
   "metadata": {},
   "outputs": [
    {
     "name": "stdout",
     "output_type": "stream",
     "text": [
      "Matriz original A:\n",
      "[[2 1]\n",
      " [5 3]]\n",
      "\n",
      "Inversa de A:\n",
      "[[ 3. -1.]\n",
      " [-5.  2.]]\n",
      "\n",
      "A * A_inv:\n",
      "[[ 1.00000000e+00  2.22044605e-16]\n",
      " [-8.88178420e-16  1.00000000e+00]]\n"
     ]
    }
   ],
   "source": [
    "import numpy as np\n",
    "\n",
    "# Definir la matriz A\n",
    "A = np.array([[2, 1],\n",
    "              [5, 3]])\n",
    "\n",
    "# Calcular la inversa de A\n",
    "A_inv = np.linalg.inv(A)\n",
    "\n",
    "print(\"Matriz original A:\")\n",
    "print(A)\n",
    "\n",
    "print(\"\\nInversa de A:\")\n",
    "print(A_inv)\n",
    "\n",
    "# Comprobar que A * A_inv es la identidad\n",
    "print(\"\\nA * A_inv:\")\n",
    "print(np.dot(A, A_inv))\n",
    "\n"
   ]
  },
  {
   "cell_type": "markdown",
   "id": "2a7a3555",
   "metadata": {},
   "source": [
    "## Propiedades de la inversa\n",
    "\n",
    "Algunas propiedades importantes de la inversa de una matriz cuadrada $ A $ son:\n",
    "\n",
    "- $ (A^{-1})^{-1} = A $\n",
    "- $ (AB)^{-1} = B^{-1} A^{-1} $ si $ A $ y $ B $ son invertibles\n",
    "- $ (A^T)^{-1} = (A^{-1})^T $\n",
    "- Si $ c \\neq 0 $ es un escalar, entonces $ (cA)^{-1} = \\frac{1}{c} A^{-1} $\n",
    "- La inversa de la matriz identidad es la propia identidad: $ (I)^{-1} = I $\n",
    "\n"
   ]
  },
  {
   "cell_type": "markdown",
   "id": "7e1b7dd5-3bf6-41b1-8d3e-e812aab03a3c",
   "metadata": {},
   "source": [
    "## 2.4.2 Definición de transpuesta de una matriz y de la matriz adjunta $ Adj(A) $ como la transpuesta de la matriz de cofactores"
   ]
  },
  {
   "cell_type": "code",
   "execution_count": null,
   "id": "311e8e55",
   "metadata": {},
   "outputs": [],
   "source": []
  },
  {
   "cell_type": "markdown",
   "id": "21de1b60-236c-455f-8a82-a44e38097ef4",
   "metadata": {},
   "source": [
    "## 2.4.3 Propiedades de la inversa"
   ]
  },
  {
   "cell_type": "markdown",
   "id": "e9703178-63d3-4588-8c11-931c393ea6ad",
   "metadata": {},
   "source": [
    "## 2.4.4 Definición de matriz identidad"
   ]
  },
  {
   "cell_type": "markdown",
   "id": "5f4c21d5-2b9d-4cfb-b861-e3d7d84ef3e3",
   "metadata": {},
   "source": [
    "## 2.4.5 Propiedades de la matriz identidad"
   ]
  },
  {
   "cell_type": "markdown",
   "id": "85a4d462-c365-4dbb-858d-a8cd2b6a3b72",
   "metadata": {},
   "source": [
    "## 2.4.6 Propiedades de la transpuesta de una matriz"
   ]
  }
 ],
 "metadata": {
  "kernelspec": {
   "display_name": "Jupyterbook",
   "language": "python",
   "name": "python3"
  },
  "language_info": {
   "codemirror_mode": {
    "name": "ipython",
    "version": 3
   },
   "file_extension": ".py",
   "mimetype": "text/x-python",
   "name": "python",
   "nbconvert_exporter": "python",
   "pygments_lexer": "ipython3",
   "version": "3.12.9"
  }
 },
 "nbformat": 4,
 "nbformat_minor": 5
}
