{
 "cells": [
  {
   "cell_type": "markdown",
   "id": "35a61ff2-bd10-4ab8-9d88-ffad2e74010c",
   "metadata": {},
   "source": [
    "# 2.2 Propiedades y aplicaciones de determinantes"
   ]
  },
  {
   "cell_type": "markdown",
   "id": "5c6e254e-4ddf-4227-b561-b3d55bef27fa",
   "metadata": {},
   "source": [
    "## 2.2.1 Propiedades de determinantes"
   ]
  },
  {
   "cell_type": "markdown",
   "id": "17a74994-a732-416c-8329-513d367ae8bb",
   "metadata": {},
   "source": [
    "## 2.2.2 Aplicaciones de determinantes"
   ]
  }
 ],
 "metadata": {
  "kernelspec": {
   "display_name": "Python 3 (ipykernel)",
   "language": "python",
   "name": "python3"
  },
  "language_info": {
   "codemirror_mode": {
    "name": "ipython",
    "version": 3
   },
   "file_extension": ".py",
   "mimetype": "text/x-python",
   "name": "python",
   "nbconvert_exporter": "python",
   "pygments_lexer": "ipython3",
   "version": "3.12.9"
  }
 },
 "nbformat": 4,
 "nbformat_minor": 5
}