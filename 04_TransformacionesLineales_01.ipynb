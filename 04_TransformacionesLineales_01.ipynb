{
 "cells": [
  {
   "cell_type": "markdown",
   "id": "2a657820-e037-441a-93e3-7fb95f73ac42",
   "metadata": {},
   "source": [
    "# 4.1 Definición de transformación"
   ]
  },
  {
   "cell_type": "markdown",
   "id": "d2cafbcf-19d5-4494-9225-d10dc2b028b9",
   "metadata": {},
   "source": [
    "## 4.1.1 Definición axiomática de transformación lineal"
   ]
  },
  {
   "cell_type": "markdown",
   "id": "e4f08e36",
   "metadata": {
    "vscode": {
     "languageId": "plaintext"
    }
   },
   "source": [
    "Sea $V$ y $W$ espacios vectoriales sobre el mismo campo $\\mathbb{F}$ (por ejemplo, $\\mathbb{R}$).\n",
    "\n",
    "Una **transformación lineal** es una función $T : V \\to W$ que satisface para todo $u, v \\in V$ y todo escalar $\\alpha$:\n",
    "\n",
    "1. **Aditividad:**  \n",
    "   \n",
    "   $$\n",
    "   T(u + v) = T(u) + T(v)\n",
    "   $$\n",
    "\n",
    "2. **Homogeneidad:**  \n",
    "   \n",
    "   $$\n",
    "   T(\\alpha u) = \\alpha T(u)\n",
    "   $$\n",
    "\n",
    "Estas dos propiedades son conocidas como los **axiomas de linealidad**."
   ]
  },
  {
   "cell_type": "markdown",
   "id": "db368c06",
   "metadata": {},
   "source": [
    "## 4.1.2 Ejemplos de transformaciones lineales"
   ]
  },
  {
   "cell_type": "markdown",
   "id": "3890ea9f",
   "metadata": {},
   "source": [
    "\n",
    "**Ejemplo 1: Funcional evaluación**  \n",
    "\n",
    "Sea $V = \\mathcal{P}_2$ el espacio de polinomios de grado a lo más $2$ sobre $\\mathbb{R}$, y $W = \\mathbb{R}$.  \n",
    "La transformación\n",
    "\n",
    "$$\n",
    "T: \\mathcal{P}_2 \\to \\mathbb{R}\n",
    "$$\n",
    "\n",
    "dada por\n",
    "\n",
    "$$\n",
    "T(p) = p(1)\n",
    "$$\n",
    "\n",
    "(toma cualquier polinomio $p(x)$ y lo evalúa en $x=1$) es lineal, porque\n",
    "\n",
    "$$\n",
    "T(\\alpha p + \\beta q) = (\\alpha p + \\beta q)(1) = \\alpha p(1) + \\beta q(1) = \\alpha T(p) + \\beta T(q)\n",
    "$$\n",
    "\n",
    "para cualesquiera polinomios $p, q \\in \\mathcal{P}_2$ y escalares $\\alpha, \\beta$.\n",
    "\n",
    "\n",
    "\n",
    "**Ejemplo 2: Operador derivada**  \n",
    "\n",
    "Sea $V = \\mathcal{P}_n$, el espacio de polinomios de grado a lo más $n$.  \n",
    "La transformación\n",
    "\n",
    "$$\n",
    "D : \\mathcal{P}_n \\to \\mathcal{P}_{n-1}\n",
    "$$\n",
    "\n",
    "dada por\n",
    "\n",
    "$$\n",
    "D(p) = p'\n",
    "$$\n",
    "\n",
    "(asigna a cada polinomio su derivada) es lineal, porque\n",
    "\n",
    "$$\n",
    "D(\\alpha p + \\beta q) = (\\alpha p + \\beta q)' = \\alpha p' + \\beta q' = \\alpha D(p) + \\beta D(q)\n",
    "$$\n",
    "\n",
    "\n",
    "\n",
    "**Ejemplo 3: Operador integral definido**  \n",
    "\n",
    "Sea $V = C[0,1]$, el espacio de funciones continuas en $[0,1]$.  \n",
    "Define la transformación\n",
    "\n",
    "$$\n",
    "I : C[0,1] \\to \\mathbb{R}\n",
    "$$\n",
    "\n",
    "por\n",
    "\n",
    "$$\n",
    "I(f) = \\int_0^1 f(x)\\,dx\n",
    "$$\n",
    "\n",
    "Esta transformación es lineal, ya que\n",
    "\n",
    "$$\n",
    "I(\\alpha f + \\beta g) = \\int_0^1 (\\alpha f(x) + \\beta g(x))\\,dx = \\alpha \\int_0^1 f(x)\\,dx + \\beta \\int_0^1 g(x)\\,dx = \\alpha I(f) + \\beta I(g)\n",
    "$$\n",
    "\n",
    "**Ejemplo 4: Esperanza matemática de variables aleatorias**  \n",
    "Sea $V$ el espacio de variables aleatorias integrables respecto a una probabilidad $\\mathbb{P}$, y $W = \\mathbb{R}$.  \n",
    "La transformación\n",
    "\n",
    "$$\n",
    "\\mathbb{E} : V \\to \\mathbb{R}\n",
    "$$\n",
    "\n",
    "dada por la esperanza matemática\n",
    "$$\n",
    "\\mathbb{E}[X]\n",
    "$$\n",
    "\n",
    "es lineal, pues para variables aleatorias $X, Y$ y escalares $\\alpha, \\beta$:\n",
    "\n",
    "$$\n",
    "\\mathbb{E}[\\alpha X + \\beta Y] = \\alpha \\mathbb{E}[X] + \\beta \\mathbb{E}[Y]\n",
    "$$"
   ]
  },
  {
   "cell_type": "markdown",
   "id": "f63aed63",
   "metadata": {
    "vscode": {
     "languageId": "plaintext"
    }
   },
   "source": [
    "## 4.1.3 Propiedades de las transformaciones lineales"
   ]
  },
  {
   "cell_type": "markdown",
   "id": "f8299106",
   "metadata": {},
   "source": [
    "**Teorema 1:**  \n",
    "\n",
    "$$\n",
    "T(0) = 0\n",
    "$$\n",
    "\n",
    "*Demostración:*  \n",
    "Sea $0$ el vector cero en $V$. Por homogeneidad,  \n",
    "\n",
    "$$\n",
    "T(0) = T(0 \\cdot v) = 0 \\cdot T(v) = 0\n",
    "$$\n",
    "\n",
    "para cualquier $v \\in V$.\n",
    "\n",
    "\n",
    "\n",
    "**Teorema 2 (preservación de la combinación lineal):**  \n",
    "Para cualquier $v_1, ..., v_k \\in V$ y escalares $a_1, ..., a_k$:\n",
    "\n",
    "$$\n",
    "T(a_1 v_1 + \\cdots + a_k v_k) = a_1 T(v_1) + \\cdots + a_k T(v_k)\n",
    "$$\n",
    "\n",
    "*Demostración:*  \n",
    "Por inducción y usando repetidamente la aditividad y la homogeneidad.\n",
    "\n",
    "\n",
    "\n",
    "**Teorema 3:**  \n",
    "$T(-v) = -T(v)$ para todo $v \\in V$.\n",
    "\n",
    "*Demostración:*  \n",
    "\n",
    "$$\n",
    "T(-v) = T((-1)v) = -1 \\cdot T(v) = -T(v)\n",
    "$$\n",
    "\n"
   ]
  }
 ],
 "metadata": {
  "kernelspec": {
   "display_name": "Python 3 (ipykernel)",
   "language": "python",
   "name": "python3"
  },
  "language_info": {
   "codemirror_mode": {
    "name": "ipython",
    "version": 3
   },
   "file_extension": ".py",
   "mimetype": "text/x-python",
   "name": "python",
   "nbconvert_exporter": "python",
   "pygments_lexer": "ipython3",
   "version": "3.12.9"
  }
 },
 "nbformat": 4,
 "nbformat_minor": 5
}
