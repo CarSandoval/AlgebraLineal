{
 "cells": [
  {
   "cell_type": "markdown",
   "id": "2a657820-e037-441a-93e3-7fb95f73ac42",
   "metadata": {},
   "source": [
    "# 4.3 Algunas transformaciones lineales de aplicación común.\n"
   ]
  },
  {
   "cell_type": "markdown",
   "id": "bbf289f2-cde1-4346-a2b2-673a40d018b2",
   "metadata": {},
   "source": [
    "## 4.3.1 Transformación de escala"
   ]
  },
  {
   "cell_type": "markdown",
   "id": "6c36c898",
   "metadata": {
    "vscode": {
     "languageId": "plaintext"
    }
   },
   "source": [
    "### Definición\n",
    "\n",
    "Una **transformación de escala** es una transformación lineal que multiplica cada coordenada de un vector por un escalar fijo (o diferente para cada coordenada).  \n",
    "En $\\mathbb{R}^2$, la matriz de una escala uniforme por $k$ es:\n",
    "$$\n",
    "S = \\begin{pmatrix}\n",
    "k & 0 \\\\\n",
    "0 & k\n",
    "\\end{pmatrix}\n",
    "$$\n",
    "Para una escala diferente en $x$ y $y$:\n",
    "$$\n",
    "S = \\begin{pmatrix}\n",
    "k_x & 0 \\\\\n",
    "0 & k_y\n",
    "\\end{pmatrix}\n",
    "$$\n",
    "\n",
    "\n",
    "### Ejemplo numérico\n",
    "\n",
    "Supón que quieres escalar el vector $v = (2, 3)$ por $k_x = 3$ en $x$ y $k_y = 0.5$ en $y$:\n",
    "$$\n",
    "S = \\begin{pmatrix}\n",
    "3 & 0 \\\\\n",
    "0 & 0.5\n",
    "\\end{pmatrix}, \\quad v = \\begin{pmatrix} 2 \\\\ 3 \\end{pmatrix}\n",
    "$$\n",
    "Entonces:\n",
    "$$\n",
    "S v = \\begin{pmatrix}\n",
    "3*2 + 0*3 \\\\\n",
    "0*2 + 0.5*3\n",
    "\\end{pmatrix} = \\begin{pmatrix}\n",
    "6 \\\\\n",
    "1.5\n",
    "\\end{pmatrix}\n",
    "$$"
   ]
  },
  {
   "cell_type": "markdown",
   "id": "032a9f3d-bb29-4da9-81b1-dca4c32138c9",
   "metadata": {},
   "source": [
    "## 4.3.2 Transformación de reflexión"
   ]
  },
  {
   "cell_type": "markdown",
   "id": "5dd1d550",
   "metadata": {},
   "source": [
    "### Definición\n",
    "\n",
    "Una **reflexión** es una transformación lineal que \"voltea\" los vectores respecto a una recta o un plano.  \n",
    "En $\\mathbb{R}^2$, la reflexión respecto al eje $x$ tiene matriz:\n",
    "$$\n",
    "R_x = \\begin{pmatrix}\n",
    "1 & 0 \\\\\n",
    "0 & -1\n",
    "\\end{pmatrix}\n",
    "$$\n",
    "y respecto al eje $y$:\n",
    "$$\n",
    "R_y = \\begin{pmatrix}\n",
    "-1 & 0 \\\\\n",
    "0 & 1\n",
    "\\end{pmatrix}\n",
    "$$\n",
    "\n",
    "\n",
    "\n",
    "### Ejemplo numérico\n",
    "\n",
    "Refleja el vector $v = (4, 1)$ respecto al eje $x$:\n",
    "$$\n",
    "R_x v = \\begin{pmatrix}\n",
    "1 & 0 \\\\\n",
    "0 & -1\n",
    "\\end{pmatrix} \\begin{pmatrix} 4 \\\\ 1 \\end{pmatrix}\n",
    "= \\begin{pmatrix} 4 \\\\ -1 \\end{pmatrix}\n",
    "$$\n"
   ]
  },
  {
   "cell_type": "markdown",
   "id": "57b11abf-ed89-40f7-8b11-f27d279dab89",
   "metadata": {},
   "source": [
    "## 4.3.3 Transformación de rotación"
   ]
  },
  {
   "cell_type": "markdown",
   "id": "61632765",
   "metadata": {},
   "source": [
    "### Definición\n",
    "\n",
    "Una **rotación** es una transformación lineal que gira los vectores alrededor del origen por un ángulo $\\theta$.  \n",
    "La matriz de rotación en $\\mathbb{R}^2$ es:\n",
    "$$\n",
    "R(\\theta) = \\begin{pmatrix}\n",
    "\\cos\\theta & -\\sin\\theta \\\\\n",
    "\\sin\\theta & \\cos\\theta\n",
    "\\end{pmatrix}\n",
    "$$\n",
    "\n",
    "\n",
    "\n",
    "### Ejemplo numérico\n",
    "\n",
    "Sea $v = (2, 0)$ y un ángulo de $90^\\circ$ ($\\theta = \\frac{\\pi}{2}$).  \n",
    "La matriz es:\n",
    "$$\n",
    "R\\left(\\frac{\\pi}{2}\\right) = \\begin{pmatrix}\n",
    "0 & -1 \\\\\n",
    "1 & 0\n",
    "\\end{pmatrix}\n",
    "$$\n",
    "Entonces:\n",
    "$$\n",
    "R(\\theta) v = \\begin{pmatrix} 0 \\\\ 2 \\end{pmatrix}\n",
    "$$\n",
    "\n"
   ]
  },
  {
   "cell_type": "markdown",
   "id": "ed29e077-9527-4bb8-8f31-20ef8a9639d5",
   "metadata": {},
   "source": [
    "## 4.3.4 Transformación de traslación"
   ]
  },
  {
   "cell_type": "markdown",
   "id": "2fa7b107",
   "metadata": {},
   "source": [
    "\n",
    "### Definición\n",
    "\n",
    "En el álgebra lineal, **la traslación** no es una transformación lineal pura, porque no preserva el origen. Sin embargo, podemos representar una traslación como una multiplicación matricial si trabajamos en un **espacio de dimensión aumentada** (usando lo que se llama _coordenadas homogéneas_).\n",
    "\n",
    "Para trasladar un vector en $\\mathbb{R}^2$ (es decir, moverlo por un vector fijo $(a, b)$), hacemos lo siguiente:\n",
    "\n",
    "- **Aumentamos el vector de entrada:** Si el vector original es $v = (x, y)$, lo escribimos como $(x, y, 1)$, agregando un $1$ como tercera coordenada.\n",
    "- **Definimos la matriz de traslación:** Usamos una matriz $3\\times 3$ de la forma:\n",
    "  $$\n",
    "  T = \\begin{pmatrix}\n",
    "  1 & 0 & a \\\\\n",
    "  0 & 1 & b \\\\\n",
    "  0 & 0 & 1 \\\\\n",
    "  \\end{pmatrix}\n",
    "  $$\n",
    "  donde $(a, b)$ es el vector de traslación deseado.\n",
    "\n",
    "La multiplicación matricial entonces produce:\n",
    "$$\n",
    "T \\begin{pmatrix} x \\\\ y \\\\ 1 \\end{pmatrix} =\n",
    "\\begin{pmatrix}\n",
    "x + a \\\\\n",
    "y + b \\\\\n",
    "1\n",
    "\\end{pmatrix}\n",
    "$$\n",
    "\n",
    "**¿Por qué agregamos una dimensión extra?**  \n",
    "Agregar el $1$ extra nos permite representar sumas como multiplicación matricial, integrando la traslación dentro del mismo marco que las transformaciones lineales (rotaciones, escalas, reflexiones) y así trabajar con todas ellas de manera unificada.\n",
    "\n",
    "\n",
    "\n",
    "### Ejemplo numérico\n",
    "\n",
    "Supón que quieres trasladar el vector $v = (2, 3)$ dos unidades a la derecha y cinco unidades hacia arriba, es decir, por el vector $(a, b) = (2, 5)$.\n",
    "\n",
    "1. Escribimos el vector aumentado:\n",
    "   $$\n",
    "   v = (2, 3) \\implies \\begin{pmatrix} 2 \\\\ 3 \\\\ 1 \\end{pmatrix}\n",
    "   $$\n",
    "\n",
    "2. Definimos la matriz de traslación:\n",
    "   $$\n",
    "   T = \\begin{pmatrix}\n",
    "   1 & 0 & 2 \\\\\n",
    "   0 & 1 & 5 \\\\\n",
    "   0 & 0 & 1 \\\\\n",
    "   \\end{pmatrix}\n",
    "   $$\n",
    "\n",
    "3. Aplicamos la transformación:\n",
    "   $$\n",
    "   T \\begin{pmatrix} 2 \\\\ 3 \\\\ 1 \\end{pmatrix}\n",
    "   =\n",
    "   \\begin{pmatrix}\n",
    "   1\\cdot2 + 0\\cdot3 + 2\\cdot1 \\\\\n",
    "   0\\cdot2 + 1\\cdot3 + 5\\cdot1 \\\\\n",
    "   0\\cdot2 + 0\\cdot3 + 1\\cdot1\n",
    "   \\end{pmatrix}\n",
    "   =\n",
    "   \\begin{pmatrix}\n",
    "   2 + 0 + 2 \\\\\n",
    "   0 + 3 + 5 \\\\\n",
    "   0 + 0 + 1\n",
    "   \\end{pmatrix}\n",
    "   =\n",
    "   \\begin{pmatrix}\n",
    "   4 \\\\\n",
    "   8 \\\\\n",
    "   1\n",
    "   \\end{pmatrix}\n",
    "   $$\n",
    "\n",
    "El resultado representa el **vector trasladado**: $(4, 8)$ en $\\mathbb{R}^2$.\n",
    "\n"
   ]
  }
 ],
 "metadata": {
  "kernelspec": {
   "display_name": "LibrosWeb_20250721",
   "language": "python",
   "name": "python3"
  },
  "language_info": {
   "codemirror_mode": {
    "name": "ipython",
    "version": 3
   },
   "file_extension": ".py",
   "mimetype": "text/x-python",
   "name": "python",
   "nbconvert_exporter": "python",
   "pygments_lexer": "ipython3",
   "version": "3.12.9"
  }
 },
 "nbformat": 4,
 "nbformat_minor": 5
}
