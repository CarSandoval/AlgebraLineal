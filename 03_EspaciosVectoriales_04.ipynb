{
 "cells": [
  {
   "cell_type": "markdown",
   "id": "1677b42a-6607-4284-b63b-cd4bedd2ae1a",
   "metadata": {},
   "source": [
    "# 3.4 Vectores linealmente dependientes e independientes"
   ]
  },
  {
   "cell_type": "markdown",
   "id": "4322e24c",
   "metadata": {},
   "source": [
    "## 3.4.1 Definicion de vetores linealmente independientes"
   ]
  },
  {
   "cell_type": "markdown",
   "id": "6b98dd25",
   "metadata": {},
   "source": [
    "Un conjunto de vectores $ \\{v_1, v_2, \\ldots, v_n\\} $ en un espacio vectorial $V$ sobre un campo $K$ se dice **linealmente independiente** si la única combinación lineal que da el vector cero es la trivial, es decir:\n",
    "\n",
    "$$\n",
    "\\alpha_1 v_1 + \\alpha_2 v_2 + \\cdots + \\alpha_n v_n = 0\n",
    "$$\n",
    "\n",
    "implica que $ \\alpha_1 = \\alpha_2 = \\cdots = \\alpha_n = 0 $, donde cada $ \\alpha_i \\in K $.  \n",
    "En otras palabras, **ningún vector del conjunto puede escribirse como combinación lineal de los otros**. ¿Por qué?"
   ]
  },
  {
   "cell_type": "markdown",
   "id": "8fcb95cb",
   "metadata": {},
   "source": [
    "## 3.4.2 Ejemplo de vectores que si son linealmente independientes"
   ]
  },
  {
   "cell_type": "markdown",
   "id": "1f6e5503",
   "metadata": {},
   "source": [
    "Considera los vectores en $ \\mathbb{R}^3 $:\n",
    "\n",
    "$$\n",
    "v_1 = (1, 0, 0), \\quad v_2 = (0, 1, 0), \\quad v_3 = (0, 0, 1)\n",
    "$$\n",
    "\n",
    "Queremos saber si son linealmente independientes. Para ello, planteamos la siguiente combinación lineal igual al vector cero:\n",
    "\n",
    "$$\n",
    "\\alpha_1 (1,0,0) + \\alpha_2 (0,1,0) + \\alpha_3 (0,0,1) = (0,0,0)\n",
    "$$\n",
    "\n",
    "Desarrollemos la suma por componentes:\n",
    "\n",
    "$$\n",
    "\\begin{align*}\n",
    "\\alpha_1 (1,0,0) & = (\\alpha_1, 0, 0) \\\\\n",
    "\\alpha_2 (0,1,0) & = (0, \\alpha_2, 0) \\\\\n",
    "\\alpha_3 (0,0,1) & = (0, 0, \\alpha_3)\n",
    "\\end{align*}\n",
    "$$\n",
    "\n",
    "Sumando los tres vectores:\n",
    "\n",
    "$$\n",
    "(\\alpha_1, 0, 0) + (0, \\alpha_2, 0) + (0, 0, \\alpha_3) = (\\alpha_1, \\alpha_2, \\alpha_3)\n",
    "$$\n",
    "\n",
    "Igualamos componente a componente al vector cero:\n",
    "\n",
    "$$\n",
    "(\\alpha_1, \\alpha_2, \\alpha_3) = (0, 0, 0)\n",
    "$$\n",
    "\n",
    "Esto nos da el siguiente sistema de ecuaciones:\n",
    "\n",
    "- $ \\alpha_1 = 0 $\n",
    "- $ \\alpha_2 = 0 $\n",
    "- $ \\alpha_3 = 0 $\n",
    "\n",
    "La **única solución** es la trivial ($\\alpha_1 = \\alpha_2 = \\alpha_3 = 0$).  \n",
    "Por lo tanto, los vectores $ v_1, v_2, v_3 $ **son linealmente independientes**.\n"
   ]
  },
  {
   "cell_type": "markdown",
   "id": "37306d55",
   "metadata": {},
   "source": [
    "## 3.4.3 Ejemplo de vectores que no son linealmente independientes"
   ]
  },
  {
   "cell_type": "markdown",
   "id": "262fc3cd",
   "metadata": {},
   "source": [
    "Considera los vectores en $ \\mathbb{R}^3 $:\n",
    "\n",
    "$$\n",
    "u_1 = (1, 2, 3), \\quad u_2 = (2, 4, 6), \\quad u_3 = (3, 6, 9)\n",
    "$$\n",
    "\n",
    "## Solución 1 (tanteo)\n",
    "\n",
    "Observa que $ u_2 = 2u_1 $ y $ u_3 = 3u_1 $, por lo que hay una dependencia lineal.\n",
    "\n",
    "Para verificarlo, planteamos:\n",
    "\n",
    "$$\n",
    "\\beta_1 u_1 + \\beta_2 u_2 + \\beta_3 u_3 = (0,0,0)\n",
    "$$\n",
    "\n",
    "Por ejemplo, si tomamos $ \\beta_1 = 3 $, $ \\beta_2 = -1.5 $, $ \\beta_3 = 0 $, obtenemos:\n",
    "$$\n",
    "3(1,2,3) + (-1.5)(2,4,6) + 0(3,6,9) = (3-3, 6-6, 9-9) = (0,0,0)\n",
    "$$\n",
    "\n",
    "Existen infinitas soluciones no triviales.  \n",
    "Por lo tanto, **estos vectores no son linealmente independientes**.\n",
    "\n",
    "### Solución 2 (ecuación)\n",
    "\n",
    "Queremos saber si son linealmente independientes. Para ello, planteamos la siguiente combinación lineal igual al vector cero:\n",
    "\n",
    "$$\n",
    "\\beta_1 (1, 2, 3) + \\beta_2 (2, 4, 6) + \\beta_3 (3, 6, 9) = (0, 0, 0)\n",
    "$$\n",
    "\n",
    "Desarrollemos la suma por componentes:\n",
    "\n",
    "- Primer componente: $ \\beta_1 \\cdot 1 + \\beta_2 \\cdot 2 + \\beta_3 \\cdot 3 $\n",
    "- Segundo componente: $ \\beta_1 \\cdot 2 + \\beta_2 \\cdot 4 + \\beta_3 \\cdot 6 $\n",
    "- Tercer componente: $ \\beta_1 \\cdot 3 + \\beta_2 \\cdot 6 + \\beta_3 \\cdot 9 $\n",
    "\n",
    "Entonces, obtenemos el sistema de ecuaciones:\n",
    "\n",
    "$$\n",
    "\\begin{cases}\n",
    "\\beta_1 + 2\\beta_2 + 3\\beta_3 = 0 \\\\\n",
    "2\\beta_1 + 4\\beta_2 + 6\\beta_3 = 0 \\\\\n",
    "3\\beta_1 + 6\\beta_2 + 9\\beta_3 = 0 \\\\\n",
    "\\end{cases}\n",
    "$$\n",
    "\n",
    "Observa que las tres ecuaciones son proporcionales (la segunda es el doble de la primera y la tercera es el triple), así que realmente solo tenemos una ecuación independiente:\n",
    "\n",
    "$$\n",
    "\\beta_1 + 2\\beta_2 + 3\\beta_3 = 0\n",
    "$$\n",
    "\n",
    "Esto significa que existen **infinitas soluciones no triviales**. Por ejemplo, podemos tomar $ \\beta_2 = 1 $, $ \\beta_3 = 0 $ y entonces $ \\beta_1 = -2 $:\n",
    "\n",
    "$$\n",
    "(-2) + 2(1) + 3(0) = 0\n",
    "$$\n",
    "\n",
    "Así, $ -2u_1 + u_2 + 0u_3 = (0,0,0) $.\n",
    "\n",
    "Por lo tanto, los vectores $ u_1, u_2, u_3 $ **no son linealmente independientes**.\n",
    "\n"
   ]
  }
 ],
 "metadata": {
  "kernelspec": {
   "display_name": "Python 3 (ipykernel)",
   "language": "python",
   "name": "python3"
  },
  "language_info": {
   "codemirror_mode": {
    "name": "ipython",
    "version": 3
   },
   "file_extension": ".py",
   "mimetype": "text/x-python",
   "name": "python",
   "nbconvert_exporter": "python",
   "pygments_lexer": "ipython3",
   "version": "3.12.9"
  }
 },
 "nbformat": 4,
 "nbformat_minor": 5
}
