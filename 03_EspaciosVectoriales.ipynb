{
 "cells": [
  {
   "cell_type": "markdown",
   "id": "1677b42a-6607-4284-b63b-cd4bedd2ae1a",
   "metadata": {},
   "source": [
    "# 3 Espacios vectoriales"
   ]
  },
  {
   "cell_type": "markdown",
   "id": "6d8b8f6b",
   "metadata": {
    "vscode": {
     "languageId": "plaintext"
    }
   },
   "source": [
    "\n",
    "## ¿Por qué estudiar los espacios vectoriales?\n",
    "\n",
    "El concepto de espacio vectorial es uno de los pilares fundamentales del álgebra lineal y de la matemática moderna en general. Los espacios vectoriales no solo unifican y generalizan el estudio de los vectores en el espacio euclidiano (como los vectores en el plano o el espacio tridimensional), sino que también permiten describir estructuras mucho más abstractas y universales.\n",
    "\n",
    "Estudiar espacios vectoriales nos da herramientas para entender y resolver problemas que aparecen en muy diversos campos: física, ingeniería, ciencias de la computación, economía, estadística, química y biología, entre muchos otros. Por ejemplo:\n",
    "\n",
    "- En física, los estados de un sistema cuántico se representan como vectores en un espacio vectorial complejo.\n",
    "- En computación, los datos e imágenes se codifican frecuentemente como vectores, y los algoritmos de inteligencia artificial trabajan sobre espacios vectoriales de alta dimensión.\n",
    "- En economía, las combinaciones lineales se usan para modelar carteras de inversión y optimización.\n",
    "- En álgebra y geometría, conceptos como independencia lineal, subespacios, bases y dimensión se vuelven esenciales para entender estructuras más complejas.\n",
    "\n",
    "Además, el estudio de los espacios vectoriales es el punto de partida para teorías más avanzadas, como los espacios normados, espacios métricos y espacios de Hilbert, que se usan en análisis funcional y teoría de operadores.\n"
   ]
  },
  {
   "cell_type": "markdown",
   "id": "a250d733",
   "metadata": {},
   "source": [
    "## Un poco de historia: ¿cómo se inventaron los espacios vectoriales?\n",
    "\n",
    "La noción moderna de espacio vectorial surgió a finales del siglo XIX, aunque sus raíces se encuentran en problemas geométricos y físicos mucho más antiguos.  \n",
    "- En la geometría clásica, Euclides ya manipulaba segmentos y relaciones de proporcionalidad que hoy podemos interpretar como operaciones vectoriales.\n",
    "- El desarrollo del álgebra y la resolución de sistemas de ecuaciones lineales en el siglo XVIII y XIX llevó a matemáticos como René Descartes, Carl Friedrich Gauss y Augustin-Louis Cauchy a trabajar con combinaciones lineales y matrices, aunque sin el lenguaje abstracto moderno.\n",
    "\n",
    "El paso decisivo ocurrió cuando matemáticos como Giuseppe Peano y Hermann Grassmann introdujeron el concepto de \"espacio lineal\" como una estructura algebraica general, separando la noción de vector de la geometría física y permitiendo tratar vectores como objetos abstractos, sujetos únicamente a ciertas reglas (axiomas).  \n",
    "- Grassmann, en particular, en su obra de 1844, desarrolló el cálculo lineal y la idea de combinar cantidades geométricas de manera generalizada.\n",
    "- Más tarde, en el siglo XX, la formalización del concepto y el desarrollo del álgebra moderna llevaron a la definición que hoy usamos: un espacio vectorial es un conjunto sobre un cuerpo, equipado con dos operaciones (suma y producto por escalar) que satisfacen ciertos axiomas.\n",
    "\n"
   ]
  }
 ],
 "metadata": {
  "kernelspec": {
   "display_name": "Python 3 (ipykernel)",
   "language": "python",
   "name": "python3"
  },
  "language_info": {
   "codemirror_mode": {
    "name": "ipython",
    "version": 3
   },
   "file_extension": ".py",
   "mimetype": "text/x-python",
   "name": "python",
   "nbconvert_exporter": "python",
   "pygments_lexer": "ipython3",
   "version": "3.12.9"
  }
 },
 "nbformat": 4,
 "nbformat_minor": 5
}
