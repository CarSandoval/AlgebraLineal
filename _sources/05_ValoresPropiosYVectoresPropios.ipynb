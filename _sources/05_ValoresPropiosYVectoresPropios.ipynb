{
 "cells": [
  {
   "cell_type": "markdown",
   "id": "da316c1a-a33b-4696-b819-09cadc9eafc3",
   "metadata": {},
   "source": [
    "# 5 Valores propios y vectores propios"
   ]
  }
 ],
 "metadata": {
  "kernelspec": {
   "display_name": "Python 3 (ipykernel)",
   "language": "python",
   "name": "python3"
  },
  "language_info": {
   "codemirror_mode": {
    "name": "ipython",
    "version": 3
   },
   "file_extension": ".py",
   "mimetype": "text/x-python",
   "name": "python",
   "nbconvert_exporter": "python",
   "pygments_lexer": "ipython3",
   "version": "3.12.9"
  }
 },
 "nbformat": 4,
 "nbformat_minor": 5
}
