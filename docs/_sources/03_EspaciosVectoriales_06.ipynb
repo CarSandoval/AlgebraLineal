{
 "cells": [
  {
   "cell_type": "markdown",
   "id": "1677b42a-6607-4284-b63b-cd4bedd2ae1a",
   "metadata": {},
   "source": [
    "# 3.6 Propiedades de las matrices"
   ]
  },
  {
   "cell_type": "markdown",
   "id": "3debf839-868a-461a-9717-6efbd3e8cf90",
   "metadata": {},
   "source": [
    "## 3.6.1 Espacio nulo"
   ]
  },
  {
   "cell_type": "markdown",
   "id": "46b7014a-1845-4ca7-b0ee-24bbeed71770",
   "metadata": {},
   "source": [
    "## 3.6.2. Nulidad"
   ]
  },
  {
   "cell_type": "markdown",
   "id": "c360d936-e7e6-40e8-9b9f-cd87bd015a5e",
   "metadata": {},
   "source": [
    "## 3.6.3. Imagen"
   ]
  },
  {
   "cell_type": "markdown",
   "id": "a08e0653-c4c7-4021-8cdb-e77ab0e16db9",
   "metadata": {},
   "source": [
    "## 3.6.4. Rango"
   ]
  },
  {
   "cell_type": "markdown",
   "id": "2ffc52de-b7c3-490c-9d60-72ba1a7747a2",
   "metadata": {},
   "source": [
    "## 3.6.5. Espacio de las columnas"
   ]
  },
  {
   "cell_type": "markdown",
   "id": "fd1e3b21-3f2d-4221-8b20-f1cd5977981d",
   "metadata": {},
   "source": [
    "## 3.6.6. Espacio de los renglones"
   ]
  }
 ],
 "metadata": {
  "kernelspec": {
   "display_name": "Python 3 (ipykernel)",
   "language": "python",
   "name": "python3"
  },
  "language_info": {
   "codemirror_mode": {
    "name": "ipython",
    "version": 3
   },
   "file_extension": ".py",
   "mimetype": "text/x-python",
   "name": "python",
   "nbconvert_exporter": "python",
   "pygments_lexer": "ipython3",
   "version": "3.12.9"
  }
 },
 "nbformat": 4,
 "nbformat_minor": 5
}
