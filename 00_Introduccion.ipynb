{
 "cells": [
  {
   "cell_type": "markdown",
   "id": "2f4b3274-4f9b-49c9-89af-63ad0d191355",
   "metadata": {},
   "source": [
    "# Introducción"
   ]
  },
  {
   "cell_type": "markdown",
   "id": "e5294f87-d37a-4b5e-9160-c6feb8d34019",
   "metadata": {},
   "source": [
    "El álgebra lineal es una de las ramas más poderosas de las matemáticas modernas. Si bien en un principio puede parecer un conjunto de reglas abstractas para manipular matrices y vectores, pronto descubrimos que detrás de cada concepto se esconden ideas profundas con aplicaciones que alcanzan casi todas las áreas de la ciencia, la ingeniería y la vida cotidiana.\n",
    "\n",
    "En este curso de álgebra lineal el objetivo no es únicamente memorizar procedimientos, sino comprender el sentido geométrico y lógico de cada resultado. Este libro nace del deseo de acompañar a quien lo lea en ese viaje de descubrimiento, donde las operaciones matriciales dejan de ser mecánicas para convertirse en herramientas que nos permiten modelar, analizar y resolver problemas reales.\n",
    "\n",
    "A lo largo de estas páginas recorreremos juntos los temas fundamentales: el espacio vectorial, la transformación lineal, los determinantes, los valores y vectores propios, y mucho más. Cada capítulo está acompañado de ejemplos, ejercicios prácticos y conexiones con otras disciplinas, para que puedas apreciar tanto la belleza interna de la teoría como su impacto en el mundo que nos rodea.\n",
    "\n",
    "Con este libro no solo se pretende que logren dominar técnicamente el álgebra lineal, sino también que puedan adentrarse en las bellas teorías que la sustentan y apreciar la profundidad y elegancia de sus fundamentos. Mi intención es que, al finalizar este libro, se lleven no solo una colección de herramientas matemáticas, sino una comprensión más amplia y apreciativa de la estructura lógica y conceptual que da vida a esta disciplina.\n",
    "\n",
    "\n",
    "Bienvenido a este recorrido por el álgebra lineal. Comencemos.\n",
    "\n",
    "<iframe width=\"560\" height=\"315\" src=\"https://www.youtube.com/embed/0Ndnzx6AyaA&list=PLIb_io8a5NB2DddFf-PwvZDCOUNT1GZoA&index=1\" frameborder=\"0\" allowfullscreen></iframe>\n",
    "\n",
    "\n",
    "\n",
    "```{tableofcontents}\n",
    "```\n"
   ]
  }
 ],
 "metadata": {
  "kernelspec": {
   "display_name": "Python 3 (ipykernel)",
   "language": "python",
   "name": "python3"
  },
  "language_info": {
   "codemirror_mode": {
    "name": "ipython",
    "version": 3
   },
   "file_extension": ".py",
   "mimetype": "text/x-python",
   "name": "python",
   "nbconvert_exporter": "python",
   "pygments_lexer": "ipython3",
   "version": "3.12.9"
  }
 },
 "nbformat": 4,
 "nbformat_minor": 5
}
