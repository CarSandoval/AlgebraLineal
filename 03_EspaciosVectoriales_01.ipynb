{
 "cells": [
  {
   "cell_type": "markdown",
   "id": "1677b42a-6607-4284-b63b-cd4bedd2ae1a",
   "metadata": {},
   "source": [
    "# 3.1 Introducción a los Espacios vectoriales"
   ]
  },
  {
   "cell_type": "markdown",
   "id": "5934a35b",
   "metadata": {
    "vscode": {
     "languageId": "plaintext"
    }
   },
   "source": [
    "## 3.1.1 Campo"
   ]
  },
  {
   "cell_type": "markdown",
   "id": "68d8f978",
   "metadata": {
    "vscode": {
     "languageId": "plaintext"
    }
   },
   "source": [
    "\n",
    "### Definición\n",
    "\n",
    "Se define un **campo** como una tripleta $ (K, +, \\cdot) $, donde:\n",
    "- $ K $ es un conjunto no vacío,\n",
    "- $ + $ (suma) y $ \\cdot $ (multiplicación) son dos operaciones binarias en $ K $,\n",
    "\n",
    "que satisfacen los siguientes axiomas:\n",
    "\n",
    "- **Clausura sobre $ + $**: Si $ a, b \\in K $, entonces $ a + b \\in K $.\n",
    "- **Asociatividad sobre $ + $**: $ (a + b) + c = a + (b + c) $ para todo $ a, b, c \\in K $.\n",
    "- **Elemento neutro sobre $ + $**: Existe un $ 0 \\in K $ tal que $ a + 0 = a $ para todo $ a \\in K $.\n",
    "- **Inverso aditivo sobre $ + $**: Para todo $ a \\in K $ existe $ -a \\in K $ tal que $ a + (-a) = 0 $.\n",
    "- **Conmutatividad sobre $ + $**: $ a + b = b + a $ para todo $ a, b \\in K $.\n",
    "\n",
    "- **Clausura sobre $ \\cdot $**: Si $ a, b \\neq 0 $, entonces $ a \\cdot b \\in K \\setminus \\{0\\} $.\n",
    "- **Asociatividad sobre $ \\cdot $**: $ (a \\cdot b) \\cdot c = a \\cdot (b \\cdot c) $ para todo $ a, b, c \\neq 0 $.\n",
    "- **Elemento neutro sobre $ \\cdot $**: Existe un $ 1 \\in K $, $ 1 \\neq 0 $, tal que $ a \\cdot 1 = a $ para todo $ a \\neq 0 $.\n",
    "- **Inverso multiplicativo sobre $ \\cdot $**: Para todo $ a \\neq 0 $ existe $ a^{-1} \\in K $ tal que $ a \\cdot a^{-1} = 1 $.\n",
    "- **Conmutatividad sobre $ \\cdot $**: $ a \\cdot b = b \\cdot a $ para todo $ a, b \\neq 0 $.\n",
    "\n",
    "- **Distributividad**: $ a \\cdot (b + c) = a \\cdot b + a \\cdot c $ para todo $ a, b, c \\in K $.\n",
    "\n",
    "\n"
   ]
  },
  {
   "cell_type": "markdown",
   "id": "60a1f28a",
   "metadata": {},
   "source": [
    "### Ejemplo con módulo 7\n",
    "\n",
    "Considera el conjunto $ \\mathbb{Z}_7 = \\{0, 1, 2, 3, 4, 5, 6\\} $ con las operaciones suma y multiplicación módulo 7:\n",
    "\n",
    "- **Suma módulo 7:** $ a + b $ es el residuo de $ a + b $ al dividir entre 7.\n",
    "- **Multiplicación módulo 7:** $ a \\cdot b $ es el residuo de $ a \\cdot b $ al dividir entre 7.\n",
    "\n",
    "Por ejemplo:\n",
    "- $ 4 + 5 = 9 \\equiv 2 \\pmod{7} $\n",
    "- $ 3 \\cdot 6 = 18 \\equiv 4 \\pmod{7} $\n",
    "\n",
    "En $ \\mathbb{Z}_7 $, todos los elementos distintos de cero tienen inverso multiplicativo:\n",
    "- $ 3 \\cdot 5 = 15 \\equiv 1 \\pmod{7} $, por lo que el inverso de $ 3 $ es $ 5 $.\n",
    "\n",
    "Por lo tanto, $ (\\mathbb{Z}_7, +, \\cdot) $ es un campo finito.\n"
   ]
  },
  {
   "cell_type": "markdown",
   "id": "a739c9b8",
   "metadata": {},
   "source": [
    "### Propiedades de un campo\n",
    "\n",
    "- **El neuto aditivo en unico**\n",
    "- **No existen divisores de cero:** Si $ a, b \\in K $ y $ a \\cdot b = 0 $, entonces $ a = 0 $ o $ b = 0 $.\n",
    "- **Todo elemento distinto de cero tiene inverso multiplicativo:** Para $ a \\neq 0 $, existe $ a^{-1} $ tal que $ a \\cdot a^{-1} = 1 $.\n",
    "- **La suma y multiplicación son conmutativas y asociativas.**\n",
    "El estudio de los campos es esencial para comprender el álgebra lineal, la teoría de cuerpos y aplicaciones en ciencias e ingeniería.\n"
   ]
  },
  {
   "cell_type": "markdown",
   "id": "0e35f905",
   "metadata": {},
   "source": [
    "## 3.1.2 Espacio vectorial"
   ]
  },
  {
   "cell_type": "markdown",
   "id": "7a251054",
   "metadata": {
    "vscode": {
     "languageId": "plaintext"
    }
   },
   "source": [
    "\n",
    "### Definición\n",
    "\n",
    "Se define un **espacio vectorial** sobre un campo $ K $ como una tripleta $ (V, +, \\cdot) $, donde:\n",
    "- $ V $ es un conjunto no vacío cuyos elementos se llaman **vectores**,\n",
    "- $ + $ es una operación interna llamada **suma de vectores**, y\n",
    "- $ \\cdot $ es una operación externa llamada **multiplicación por escalar** (un elemento de $ K $),\n",
    "\n",
    "que cumplen los siguientes axiomas, para todo $ u, v, w \\in V $ y todo $ a, b \\in K $:\n",
    "\n",
    "1. **Cerradura bajo la suma:** $ u + v \\in V $.\n",
    "2. **Asociatividad de la suma:** $ (u + v) + w = u + (v + w) $.\n",
    "3. **Elemento neutro:** Existe $ 0_V \\in V $ tal que $ v + 0_V = v $.\n",
    "4. **Inverso aditivo:** Para cada $ v \\in V $, existe $ -v \\in V $ tal que $ v + (-v) = 0_V $.\n",
    "5. **Conmutatividad de la suma:** $ u + v = v + u $.\n",
    "6. **Cerradura bajo la multiplicación escalar:** $ a \\cdot v \\in V $.\n",
    "7. **Distributividad respecto a la suma de vectores:** $ a \\cdot (u + v) = a \\cdot u + a \\cdot v $.\n",
    "8. **Distributividad respecto a la suma de escalares:** $ (a + b) \\cdot v = a \\cdot v + b \\cdot v $.\n",
    "9. **Compatibilidad del producto escalar:** $ (ab) \\cdot v = a \\cdot (b \\cdot v) $.\n",
    "10. **Elemento neutro escalar:** $ 1 \\cdot v = v $, donde $ 1 $ es el elemento neutro multiplicativo del campo $ K $.\n",
    "\n",
    "En resumen, un espacio vectorial es un conjunto de objetos que pueden sumarse y multiplicarse por escalares, cumpliendo estas reglas, generalizando el concepto de los vectores del espacio euclidiano.\n"
   ]
  },
  {
   "cell_type": "markdown",
   "id": "0aca31e0",
   "metadata": {},
   "source": [
    "### Ejemplo de un espacio vectorial finito\n",
    "\n",
    "Considera el campo $ \\mathbb{Z}_3 = \\{0, 1, 2\\} $ (números módulo 3) y el conjunto de pares ordenados\n",
    "\n",
    "$$\n",
    "V = \\{ (a, b) \\mid a, b \\in \\mathbb{Z}_3 \\}\n",
    "$$\n",
    "\n",
    "Definimos la suma de vectores y la multiplicación por escalar así:\n",
    "\n",
    "- $ (a_1, b_1) + (a_2, b_2) = (a_1 + a_2,\\, b_1 + b_2) $ (suma módulo 3)\n",
    "- $ k \\cdot (a, b) = (k a,\\, k b) $ (producto módulo 3, con $ k \\in \\mathbb{Z}_3 $)\n",
    "\n",
    "Por ejemplo:\n",
    "- $ (2, 1) + (1, 2) = (2 + 1,\\, 1 + 2) = (0, 0) $ módulo 3,\n",
    "- $ 2 \\cdot (1, 2) = (2 \\cdot 1,\\, 2 \\cdot 2) = (2, 1) $ módulo 3.\n",
    "\n",
    "Este conjunto, junto con estas operaciones, cumple todos los axiomas de un espacio vectorial sobre el campo $ \\mathbb{Z}_3 $. Es un ejemplo de **espacio vectorial finito**."
   ]
  },
  {
   "cell_type": "markdown",
   "id": "4efed83f",
   "metadata": {},
   "source": [
    "### Propiedades derivadas de los axiomas de un espacio vectorial\n",
    "\n",
    "A partir de los axiomas, se pueden demostrar las siguientes propiedades para todo $ v, w \\in V $ y todo $ a, b \\in K $:\n",
    "\n",
    "1. **El elemento neutro es único:**\n",
    "   - Existe un único vector $ 0_V \\in V $ tal que $ v + 0_V = v $ para todo $ v $.\n",
    "\n",
    "2. **Cada vector tiene un único inverso aditivo:**\n",
    "   - Para cada $ v \\in V $ existe un único $ -v \\in V $ tal que $ v + (-v) = 0_V $.\n",
    "\n",
    "3. **Cero escalar por cualquier vector es el vector cero:**\n",
    "   - $ 0 \\cdot v = 0_V $ para todo $ v \\in V $.\n",
    "\n",
    "4. **Cualquier escalar multiplicado por el vector cero da el vector cero:**\n",
    "   - $ a \\cdot 0_V = 0_V $ para todo $ a \\in K $.\n",
    "\n",
    "5. **El inverso aditivo se puede expresar usando el escalar $-1$:**\n",
    "   - $ (-1) \\cdot v = -v $ para todo $ v \\in V $.\n",
    "\n",
    "6. **Si $ a \\cdot v = 0_V $, entonces $ a = 0 $ o $ v = 0_V $ (si el campo es un cuerpo).**\n",
    "\n",
    "7. **Cancelación en la suma de vectores:**\n",
    "   - Si $ v + u = w + u $, entonces $ v = w $.\n",
    "\n",
    "8. **Cancelación en la multiplicación por escalar:**\n",
    "   - Si $ a \\neq 0 $ y $ a \\cdot v = a \\cdot w $, entonces $ v = w $.\n",
    "\n",
    "9. **Suma de escalares por vector cero:**\n",
    "   - $ (a + b) \\cdot 0_V = 0_V $.\n",
    "\n",
    "10. **El producto escalar de cero con cero:**\n",
    "    - $ 0 \\cdot 0_V = 0_V $.\n",
    "\n",
    "\n"
   ]
  },
  {
   "cell_type": "markdown",
   "id": "54c38c3f",
   "metadata": {},
   "source": [
    "## 3.1.3 Sub-espacio vectorial"
   ]
  },
  {
   "cell_type": "markdown",
   "id": "36bbc734",
   "metadata": {},
   "source": [
    "Un **subespacio vectorial** es un subconjunto $ W $ de un espacio vectorial $ V $ sobre un campo $ K $, que, usando las mismas operaciones de suma de vectores y multiplicación por escalar definidas en $ V $, también es un espacio vectorial sobre $ K $.\n"
   ]
  },
  {
   "cell_type": "markdown",
   "id": "62d341a8",
   "metadata": {},
   "source": [
    "### Teorema de subespacio vectorial\n",
    "\n",
    "Un subconjunto $ W $ de un espacio vectorial $ V $ sobre un campo $ K $ es un **subespacio vectorial** si y solo si:\n",
    "\n",
    "1. $ 0_V \\in W $,\n",
    "2. Para todo $ u, v \\in W $, se cumple $ u + v \\in W $,\n",
    "3. Para todo $ a \\in K $ y $ v \\in W $, se cumple $ a \\cdot v \\in W $."
   ]
  },
  {
   "cell_type": "markdown",
   "id": "40b8468f",
   "metadata": {},
   "source": [
    "### Ejemplo de subespacio vectorial en las matrices\n",
    "\n",
    "Considera el espacio vectorial $ M_{2 \\times 2}(\\mathbb{R}) $, el conjunto de todas las matrices $ 2 \\times 2 $ con entradas reales.\n",
    "\n",
    "Sea $ W $ el subconjunto de $ M_{2 \\times 2}(\\mathbb{R}) $ formado por todas las matrices simétricas, es decir:\n",
    "\n",
    "$$\n",
    "W = \\left\\{ \n",
    "\\begin{pmatrix}\n",
    "a & b \\\\\n",
    "b & c \\\\\n",
    "\\end{pmatrix}\n",
    "\\Bigg| \\; a, b, c \\in \\mathbb{R} \n",
    "\\right\\}\n",
    "$$\n",
    "\n",
    "Probemos que $ W $ es un subespacio vectorial de $ M_{2 \\times 2}(\\mathbb{R}) $:\n",
    "- **Contiene el cero:** La matriz cero es simétrica.\n",
    "- **Cerrado bajo suma:** La suma de dos matrices simétricas es simétrica.\n",
    "- **Cerrado bajo multiplicación escalar:** Un escalar por una matriz simétrica sigue siendo simétrica.\n",
    "\n",
    "Por lo tanto, $ W $ es un subespacio vectorial del espacio de todas las matrices $ 2 \\times 2 $."
   ]
  },
  {
   "cell_type": "markdown",
   "id": "2708a732",
   "metadata": {},
   "source": [
    "### Otros Ejemplos de subespacios vectoriales\n",
    "\n",
    "- El conjunto de matrices diagonales,\n",
    "- El conjunto de matrices triangulares superiores,\n",
    "- El conjunto de matrices de traza cero."
   ]
  }
 ],
 "metadata": {
  "kernelspec": {
   "display_name": "Jupyterbook",
   "language": "python",
   "name": "python3"
  },
  "language_info": {
   "codemirror_mode": {
    "name": "ipython",
    "version": 3
   },
   "file_extension": ".py",
   "mimetype": "text/x-python",
   "name": "python",
   "nbconvert_exporter": "python",
   "pygments_lexer": "ipython3",
   "version": "3.12.9"
  }
 },
 "nbformat": 4,
 "nbformat_minor": 5
}
