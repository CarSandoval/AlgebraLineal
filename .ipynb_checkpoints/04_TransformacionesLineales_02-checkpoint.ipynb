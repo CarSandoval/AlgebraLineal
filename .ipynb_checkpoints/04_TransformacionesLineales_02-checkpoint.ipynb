{
 "cells": [
  {
   "cell_type": "markdown",
   "id": "2a657820-e037-441a-93e3-7fb95f73ac42",
   "metadata": {},
   "source": [
    "# 4.2 Representación matricial de una transformación lineal"
   ]
  },
  {
   "cell_type": "markdown",
   "id": "64f9c931-a477-47df-bd4c-01f0751b5be0",
   "metadata": {},
   "source": [
    "## 4.2.1 Kernel de una transformación lineal"
   ]
  },
  {
   "cell_type": "markdown",
   "id": "bdee2778-c7b3-4263-997e-b7dc57de842f",
   "metadata": {},
   "source": [
    "## 4.2.2 Imagen de una transformación lineal"
   ]
  }
 ],
 "metadata": {
  "kernelspec": {
   "display_name": "Python 3 (ipykernel)",
   "language": "python",
   "name": "python3"
  },
  "language_info": {
   "codemirror_mode": {
    "name": "ipython",
    "version": 3
   },
   "file_extension": ".py",
   "mimetype": "text/x-python",
   "name": "python",
   "nbconvert_exporter": "python",
   "pygments_lexer": "ipython3",
   "version": "3.12.9"
  }
 },
 "nbformat": 4,
 "nbformat_minor": 5
}
