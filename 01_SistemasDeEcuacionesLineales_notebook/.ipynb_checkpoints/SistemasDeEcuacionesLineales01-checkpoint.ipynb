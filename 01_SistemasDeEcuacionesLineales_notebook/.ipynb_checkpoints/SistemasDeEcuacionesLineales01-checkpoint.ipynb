{
 "cells": [
  {
   "cell_type": "markdown",
   "id": "e15b5a62-4406-4e5c-9207-15e054d9fa61",
   "metadata": {},
   "source": [
    "# Sistemas de ecuaciones lineales"
   ]
  },
  {
   "cell_type": "code",
   "execution_count": 1,
   "id": "19fb0b09-70e8-4a0b-9965-c9608863eac6",
   "metadata": {},
   "outputs": [
    {
     "data": {
      "application/vnd.jupyter.widget-view+json": {
       "model_id": "d345b07640e94fbf93f0006abe95653b",
       "version_major": 2,
       "version_minor": 0
      },
      "text/plain": [
       "interactive(children=(FloatSlider(value=1.0, description='Pendiente (m)', max=5.0, min=-5.0), FloatSlider(valu…"
      ]
     },
     "metadata": {},
     "output_type": "display_data"
    }
   ],
   "source": [
    "import numpy as np\n",
    "import matplotlib.pyplot as plt\n",
    "from ipywidgets import interact, FloatSlider\n",
    "\n",
    "# Función para graficar la recta y = mx + b\n",
    "def plot_line(m, b):\n",
    "    x = np.linspace(-10, 10, 400)\n",
    "    y = m * x + b\n",
    "    \n",
    "    plt.figure(figsize=(6,4))\n",
    "    plt.plot(x, y, label=f'$y = {m:.2f}x + {b:.2f}$', color='royalblue')\n",
    "    plt.axhline(0, color='gray', linewidth=0.7)\n",
    "    plt.axvline(0, color='gray', linewidth=0.7)\n",
    "    plt.ylim(-20, 20)\n",
    "    plt.xlim(-10, 10)\n",
    "    plt.xlabel('$x$')\n",
    "    plt.ylabel('$y$')\n",
    "    plt.title('Gráfica de la recta $y = mx + b$')\n",
    "    plt.grid(True)\n",
    "    plt.legend()\n",
    "    plt.show()\n",
    "\n",
    "# Sliders para m y b\n",
    "interact(\n",
    "    plot_line,\n",
    "    m=FloatSlider(value=1.0, min=-5, max=5, step=0.1, description='Pendiente (m)'),\n",
    "    b=FloatSlider(value=0.0, min=-10, max=10, step=0.5, description='Intersección (b)')\n",
    ");\n"
   ]
  }
 ],
 "metadata": {
  "kernelspec": {
   "display_name": "Python 3 (ipykernel)",
   "language": "python",
   "name": "python3"
  },
  "language_info": {
   "codemirror_mode": {
    "name": "ipython",
    "version": 3
   },
   "file_extension": ".py",
   "mimetype": "text/x-python",
   "name": "python",
   "nbconvert_exporter": "python",
   "pygments_lexer": "ipython3",
   "version": "3.12.9"
  }
 },
 "nbformat": 4,
 "nbformat_minor": 5
}
