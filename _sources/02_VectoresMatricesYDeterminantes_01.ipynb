{
 "cells": [
  {
   "cell_type": "markdown",
   "id": "a6877878-b987-47bc-a433-da6232b6afc0",
   "metadata": {},
   "source": [
    "# 2.2 Definición de determinante"
   ]
  },
  {
   "cell_type": "markdown",
   "id": "2b6b3777-928a-4f71-8d81-15bc1a511003",
   "metadata": {},
   "source": [
    "## 2.2.1 Definición de determinante de una matriz de 2x2"
   ]
  },
  {
   "cell_type": "markdown",
   "id": "3d1ff5a9-bc6f-46b7-b026-d62b9aabb040",
   "metadata": {},
   "source": [
    "## 2.2.2 Definición de determinante de una matriz de 3x3"
   ]
  },
  {
   "cell_type": "markdown",
   "id": "f5b0dc18-8b48-47c8-b273-71af23013ca0",
   "metadata": {},
   "source": [
    "## 2.2.3 Definición de determinante de una matriz de nxn"
   ]
  }
 ],
 "metadata": {
  "kernelspec": {
   "display_name": "Python 3 (ipykernel)",
   "language": "python",
   "name": "python3"
  },
  "language_info": {
   "codemirror_mode": {
    "name": "ipython",
    "version": 3
   },
   "file_extension": ".py",
   "mimetype": "text/x-python",
   "name": "python",
   "nbconvert_exporter": "python",
   "pygments_lexer": "ipython3",
   "version": "3.12.9"
  }
 },
 "nbformat": 4,
 "nbformat_minor": 5
}
