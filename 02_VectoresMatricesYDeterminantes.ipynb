{
 "cells": [
  {
   "cell_type": "markdown",
   "id": "4acdbc4c-dfb3-4aeb-a06e-ac42a47909c7",
   "metadata": {},
   "source": [
    "# 2 Vectores Matrices y Determinantes"
   ]
  },
  {
   "cell_type": "markdown",
   "id": "f824c07f",
   "metadata": {
    "vscode": {
     "languageId": "plaintext"
    }
   },
   "source": [
    "Cuando trabajamos con matrices, una de las herramientas fundamentales en álgebra lineal es el **determinante**. Intuitivamente, el determinante es un número asociado a una matriz cuadrada (una matriz con el mismo número de filas y columnas) que **resume información importante** sobre dicha matriz.\n",
    "\n",
    "Por ejemplo:\n",
    "\n",
    "- Para matrices **2x2**, el determinante se puede visualizar como el **área** del paralelogramo definido por los vectores fila (o columna).\n",
    "- Para matrices **3x3**, se relaciona con el **volumen** del paralelepípedo definido por sus vectores.\n",
    "- En general, nos dice si un sistema de ecuaciones tiene solución única, si una transformación lineal es invertible o no, y cómo cambia el \"espacio\" cuando aplicamos la matriz.\n",
    "\n",
    "\n",
    "<p align=\"center\">\n",
    " <a href=\"https://www.youtube.com/watch?v=yt3eoYvGel0\">\n",
    " <img src=\"https://img.youtube.com/vi/0Ndnzx6AyaA/0.jpg\">\n",
    "</p>\n"
   ]
  },
  {
   "cell_type": "markdown",
   "id": "8897f2c8",
   "metadata": {
    "vscode": {
     "languageId": "plaintext"
    }
   },
   "source": [
    "## Definición formal\n",
    "\n",
    "Sea $ A = [a_{ij}] $  una matriz cuadrada de orden $ n $ . El **determinante** de $ A $ , denotado por $ \\det(A) $  o $ |A| $ , se define como:\n",
    "\n",
    "$$\n",
    "\\det(A) = \\sum_{\\sigma \\in S_n} \\text{sgn}(\\sigma) \\cdot a_{1\\sigma(1)} a_{2\\sigma(2)} \\cdots a_{n\\sigma(n)}\n",
    "$$\n",
    "\n",
    "donde:\n",
    "\n",
    "- $ S_n $  es el conjunto de todas las **permutaciones** del conjunto $ \\{1, 2, ..., n\\} $ ,\n",
    "- $ \\sigma \\in S_n $  es una permutación,\n",
    "- $ \\text{sgn}(\\sigma) \\in \\{-1, +1\\} $  es el **signo de la permutación**,\n",
    "- $ a_{i\\sigma(i)} $  es el elemento de la fila $ i $  y columna $ \\sigma(i) $ .\n",
    "\n"
   ]
  },
  {
   "cell_type": "markdown",
   "id": "66e86cde",
   "metadata": {
    "vscode": {
     "languageId": "plaintext"
    }
   },
   "source": [
    "### Ejemplo para una matriz de $ 3 \\times 3 $\n",
    "\n",
    "Sea:\n",
    "\n",
    "$$\n",
    "A = \\begin{bmatrix}\n",
    "1 & 2 & 3 \\\\\n",
    "4 & 5 & 6 \\\\\n",
    "7 & 8 & 9\n",
    "\\end{bmatrix}\n",
    "$$\n",
    "\n",
    "El determinante de $ A $  se define como:\n",
    "\n",
    "$$\n",
    "\\det(A) = \\sum_{\\sigma \\in S_3} \\text{sgn}(\\sigma) \\cdot a_{1\\sigma(1)} a_{2\\sigma(2)} a_{3\\sigma(3)}\n",
    "$$\n",
    "\n",
    "donde:\n",
    "\n",
    "- $ S_3 $  es el conjunto de todas las permutaciones de $ \\{1,2,3\\} $ ,\n",
    "- $ \\text{sgn}(\\sigma) $  es el **signo** de la permutación: $+1$  si es par, $−1$  si es impar.\n",
    "\n",
    "\n",
    "\n",
    "Listamos todas las permutaciones de columnas (índices $ \\sigma \\in S_3 $ ):\n",
    "\n",
    "| Permutación $ \\sigma $  | Producto $ a_{1\\sigma(1)} a_{2\\sigma(2)} a_{3\\sigma(3)} $  | Signo $ \\text{sgn}(\\sigma) $  | Resultado |\n",
    "|--------------------------|--------------------------------------------------------------|-------------------------------|-----------|\n",
    "| (1,2,3)                  | $1 \\cdot 5 \\cdot 9 = 45$                                    | $+1$                          | $+45$    |\n",
    "| (1,3,2)                  | $1 \\cdot 6 \\cdot 8 = 48$                                    | $−1$                          | $−48$    |\n",
    "| (2,1,3)                  | $2 \\cdot 4 \\cdot 9 = 72$                                    | $−1$                          | $−72$    |\n",
    "| (2,3,1)                  | $2 \\cdot 6 \\cdot 7 = 84$                                    | $+1$                          | $+84$    |\n",
    "| (3,1,2)                  | $3 \\cdot 4 \\cdot 8 = 96$                                    | $+1$                          | $+96$    |\n",
    "| (3,2,1)                  | $3 \\cdot 5 \\cdot 7 = 105$                                   | $−1$                          | $−105$   |\n",
    "\n",
    "\n",
    "\n",
    "Suma total:\n",
    "\n",
    "$$\n",
    "\\det(A) = +45 - 48 - 72 + 84 + 96 - 105 = 0\n",
    "$$\n",
    "\n",
    "\n",
    "\n",
    "$$\n",
    "\\boxed{\\det(A) = 0}\n",
    "$$\n",
    "\n"
   ]
  },
  {
   "cell_type": "markdown",
   "id": "5544a3aa",
   "metadata": {},
   "source": [
    "## Definición recursiva (por cofactores)\n",
    "\n",
    "\n",
    "\n",
    "Alternativamente, para $ n \\geq 2 $ se puede definir el determinante de manera recursiva:\n",
    "\n",
    "$$\n",
    "\\det(A) = \\sum_{j=1}^n (-1)^{1+j} a_{1j} \\cdot \\det(M_{1j})\n",
    "$$\n",
    "\n",
    "donde:\n",
    "\n",
    "- $ M_{1j} $ es la **submatriz** que resulta al eliminar la fila 1 y la columna $ j $\n",
    "- La recursión se detiene cuando se alcanza una matriz de $ 2 \\times 2 $\n",
    "\n",
    "\n",
    "$$\n",
    "\\det\\begin{bmatrix}\n",
    "a & b \\\\\n",
    "c & d\n",
    "\\end{bmatrix} = ad - bc\n",
    "$$"
   ]
  }
 ],
 "metadata": {
  "kernelspec": {
   "display_name": "Python 3 (ipykernel)",
   "language": "python",
   "name": "python3"
  },
  "language_info": {
   "codemirror_mode": {
    "name": "ipython",
    "version": 3
   },
   "file_extension": ".py",
   "mimetype": "text/x-python",
   "name": "python",
   "nbconvert_exporter": "python",
   "pygments_lexer": "ipython3",
   "version": "3.12.9"
  }
 },
 "nbformat": 4,
 "nbformat_minor": 5
}
