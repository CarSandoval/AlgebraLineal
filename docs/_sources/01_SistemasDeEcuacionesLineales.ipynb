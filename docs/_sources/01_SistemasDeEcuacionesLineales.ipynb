{
 "cells": [
  {
   "cell_type": "markdown",
   "id": "e5bb2dff-c729-4a56-b1ba-11b5f64f9e83",
   "metadata": {},
   "source": [
    "# 1 Sistemas de Ecuaciones Lineales"
   ]
  }
 ],
 "metadata": {
  "kernelspec": {
   "display_name": "Python 3 (ipykernel)",
   "language": "python",
   "name": "python3"
  },
  "language_info": {
   "codemirror_mode": {
    "name": "ipython",
    "version": 3
   },
   "file_extension": ".py",
   "mimetype": "text/x-python",
   "name": "python",
   "nbconvert_exporter": "python",
   "pygments_lexer": "ipython3",
   "version": "3.12.9"
  }
 },
 "nbformat": 4,
 "nbformat_minor": 5
}
