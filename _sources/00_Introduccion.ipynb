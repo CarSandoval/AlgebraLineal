{
 "cells": [
  {
   "cell_type": "markdown",
   "id": "2f4b3274-4f9b-49c9-89af-63ad0d191355",
   "metadata": {},
   "source": [
    "# Introducción"
   ]
  },
  {
   "cell_type": "markdown",
   "id": "e5294f87-d37a-4b5e-9160-c6feb8d34019",
   "metadata": {},
   "source": [
    "This is a small sample book to give you a feel for how book content is\n",
    "structured.\n",
    "It shows off a few of the major file types, as well as some sample content.\n",
    "It does not go in-depth into any particular topic - check out [the Jupyter Book documentation](https://jupyterbook.org) for more information.\n",
    "\n",
    "Check out the content pages bundled with this sample book to see more.\n",
    "\n",
    "```{tableofcontents}\n",
    "```\n"
   ]
  }
 ],
 "metadata": {
  "kernelspec": {
   "display_name": "Python 3 (ipykernel)",
   "language": "python",
   "name": "python3"
  },
  "language_info": {
   "codemirror_mode": {
    "name": "ipython",
    "version": 3
   },
   "file_extension": ".py",
   "mimetype": "text/x-python",
   "name": "python",
   "nbconvert_exporter": "python",
   "pygments_lexer": "ipython3",
   "version": "3.12.9"
  }
 },
 "nbformat": 4,
 "nbformat_minor": 5
}
