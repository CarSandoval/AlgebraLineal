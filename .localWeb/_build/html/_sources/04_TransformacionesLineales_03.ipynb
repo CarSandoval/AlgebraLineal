{
 "cells": [
  {
   "cell_type": "markdown",
   "id": "2a657820-e037-441a-93e3-7fb95f73ac42",
   "metadata": {},
   "source": [
    "# 4.3 Algunas transformaciones lineales de aplicación común.\n"
   ]
  },
  {
   "cell_type": "markdown",
   "id": "bbf289f2-cde1-4346-a2b2-673a40d018b2",
   "metadata": {},
   "source": [
    "## 4.3.1 Transformación de escala"
   ]
  },
  {
   "cell_type": "markdown",
   "id": "032a9f3d-bb29-4da9-81b1-dca4c32138c9",
   "metadata": {},
   "source": [
    "## 4.3.2 Transformación de reflexión"
   ]
  },
  {
   "cell_type": "markdown",
   "id": "57b11abf-ed89-40f7-8b11-f27d279dab89",
   "metadata": {},
   "source": [
    "## 4.3.3 Transformación de rotación"
   ]
  },
  {
   "cell_type": "markdown",
   "id": "ed29e077-9527-4bb8-8f31-20ef8a9639d5",
   "metadata": {},
   "source": [
    "## 4.3.4 Transformación de traslación"
   ]
  }
 ],
 "metadata": {
  "kernelspec": {
   "display_name": "Python 3 (ipykernel)",
   "language": "python",
   "name": "python3"
  },
  "language_info": {
   "codemirror_mode": {
    "name": "ipython",
    "version": 3
   },
   "file_extension": ".py",
   "mimetype": "text/x-python",
   "name": "python",
   "nbconvert_exporter": "python",
   "pygments_lexer": "ipython3",
   "version": "3.12.9"
  }
 },
 "nbformat": 4,
 "nbformat_minor": 5
}
