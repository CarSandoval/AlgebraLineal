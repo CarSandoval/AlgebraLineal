{
 "cells": [
  {
   "cell_type": "markdown",
   "id": "9498771a-7c12-4c6a-8f51-30dd2f89dacf",
   "metadata": {
    "jp-MarkdownHeadingCollapsed": true
   },
   "source": [
    "# 1.2 Interpretación Geométrica"
   ]
  },
  {
   "cell_type": "markdown",
   "id": "3aa593e2",
   "metadata": {},
   "source": [
    "## 1.2.1 Variables libres\n",
    "\n",
    "Imagina que en una tienda venden bolsas de pepinos y bolsas de papas. Ana compra **una bolsa de pepinos** y **una bolsa de papas** y paga **$80** en total.\n",
    "¿Se puede saber exactamente cuánto cuesta cada cosa? \n",
    "Plantea una ecuación que ayude a modelar el problema anterior\n",
    "\n",
    "<br>\n",
    "<br>\n",
    "<br>\n",
    "\n",
    "### Representación en forma de ecuación\n",
    "La ecuación que representa la compra de Ana es:\n",
    "\n",
    "$$\n",
    "x + y = 80\n",
    "$$\n",
    "\n",
    "#### ¿Podemos saber el precio exacto de cada bolsa?\n",
    "\n",
    "**No**, porque hay una sola ecuación pero dos incógnitas.  \n",
    "Esto significa que hay **infinitas combinaciones** de precios posibles para $x$ y $y$.\n",
    "\n",
    "Por ejemplo:\n",
    "- Si $x = 50$, entonces $y = 30$.\n",
    "- Si $x = 40$, entonces $y = 40$.\n",
    "- Si $x = 10$, entonces $y = 70$.\n",
    "- Y así sucesivamente.\n",
    "\n",
    "Notemos que en este contexto, **podemos escoger libremente el valor de una de las variables** (por ejemplo, $x$), y automáticamente la otra variable queda determinada por la ecuación.\n",
    "\n",
    "Podemos escribir la solución así:\n",
    "\n",
    "$$\n",
    "x = t \\\\\n",
    "y = 80 - t\n",
    "$$\n",
    "\n",
    "donde $t$ puede ser **cualquier número real entre $0$ y $80$** (suponiendo que los precios no son negativos).\n",
    "\n",
    "En este caso, decimos que **$x$ es una variable libre**. Es decir que **podemos elegir cualquier valor para $x$** y, usando la ecuación, encontrar el valor correspondiente de $y$.\n",
    "\n",
    "## 1.2.2 De una ecuacion con variables libres a una gráfica\n",
    "\n",
    "Una manera muy sencilla y visual de graficar este tipo de ecuaciones es el **método tabular**.  \n",
    "El método consiste en:\n",
    "\n",
    "1. **Elegir varios valores para la variable libre** (por ejemplo, $t$).\n",
    "2. **Calcular el valor correspondiente de la otra variable** usando la ecuación.\n",
    "3. **Construir una tabla** con los pares de valores $(x, y)$ obtenidos.\n",
    "4. **Graficar los puntos** en el plano cartesiano.\n",
    "5. **Unir los puntos** para ver la figura completa (en el caso de una ecuación lineal, será una recta).\n",
    "\n",
    "\n",
    "**Ejemplo**\n",
    "\n",
    "Para la ecuación $x + y = 80$, supongamos que elegimos los siguientes valores para $x$ (nuestra variable libre):\n",
    "\n",
    "| $x$ | $y = 80 - x$ |\n",
    "|-----|--------------|\n",
    "| 0   | 80           |\n",
    "| 20  | 60           |\n",
    "| 40  | 40           |\n",
    "| 60  | 20           |\n",
    "| 80  | 0            |\n",
    "\n",
    "Estos pares $(x, y)$ representan **soluciones** de la ecuación.  \n",
    "Si los graficamos, todos estarán alineados sobre la recta $x + y = 80$.\n",
    "\n",
    "<img src=\"https://github.com/CarSandoval/AlgebraLineal/blob/main/Imagenes/Unidad01/grafica_xy_80.png\" alt=\"Gráfica de x + y = 80\" width=\"400\" style=\"display: block; margin-left: auto; margin-right: auto;\">\n",
    "\n"
   ]
  },
  {
   "cell_type": "markdown",
   "id": "1c737483",
   "metadata": {},
   "source": [
    "\n",
    "\n",
    "### URL interactivo\n",
    "[![Interactúa en Binder](https://mybinder.org/badge_logo.svg)](https://mybinder.org/v2/gh/CarSandoval/AlgebraLineal/main?filepath=01_SistemasDeEcuacionesLineales_notebook/InterpretecionGeometrica02.ipynb)"
   ]
  }
 ],
 "metadata": {
  "kernelspec": {
   "display_name": "Python 3 (ipykernel)",
   "language": "python",
   "name": "python3"
  },
  "language_info": {
   "codemirror_mode": {
    "name": "ipython",
    "version": 3
   },
   "file_extension": ".py",
   "mimetype": "text/x-python",
   "name": "python",
   "nbconvert_exporter": "python",
   "pygments_lexer": "ipython3",
   "version": "3.12.9"
  }
 },
 "nbformat": 4,
 "nbformat_minor": 5
}
