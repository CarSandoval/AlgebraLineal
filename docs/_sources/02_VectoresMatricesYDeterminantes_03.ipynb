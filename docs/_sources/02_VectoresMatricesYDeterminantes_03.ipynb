{
 "cells": [
  {
   "cell_type": "markdown",
   "id": "19748f76-f110-4bea-b03b-e16db8678ca6",
   "metadata": {},
   "source": [
    "# 2.4 Propiedades y aplicaciones de matrices"
   ]
  },
  {
   "cell_type": "markdown",
   "id": "69e34f08-ad18-4bea-9edb-e19ca73f26fe",
   "metadata": {},
   "source": [
    "## 2.4.1 Definición de inversa de una matriz"
   ]
  },
  {
   "cell_type": "markdown",
   "id": "7e1b7dd5-3bf6-41b1-8d3e-e812aab03a3c",
   "metadata": {},
   "source": [
    "## 2.4.2 Definición de transpuesta de una matriz y de la matriz adjunta $Adj(A)$ como la transpuesta de la matriz de cofactores"
   ]
  },
  {
   "cell_type": "markdown",
   "id": "21de1b60-236c-455f-8a82-a44e38097ef4",
   "metadata": {},
   "source": [
    "## 2.4.3 Propiedades de la inversa"
   ]
  },
  {
   "cell_type": "markdown",
   "id": "e9703178-63d3-4588-8c11-931c393ea6ad",
   "metadata": {},
   "source": [
    "## 2.4.4 Definición de matriz identidad"
   ]
  },
  {
   "cell_type": "markdown",
   "id": "5f4c21d5-2b9d-4cfb-b861-e3d7d84ef3e3",
   "metadata": {},
   "source": [
    "## 2.4.5 Propiedades de la matriz identidad"
   ]
  },
  {
   "cell_type": "markdown",
   "id": "85a4d462-c365-4dbb-858d-a8cd2b6a3b72",
   "metadata": {},
   "source": [
    "## 2.4.6 Propiedades de la transpuesta de una matriz"
   ]
  }
 ],
 "metadata": {
  "kernelspec": {
   "display_name": "Python 3 (ipykernel)",
   "language": "python",
   "name": "python3"
  },
  "language_info": {
   "codemirror_mode": {
    "name": "ipython",
    "version": 3
   },
   "file_extension": ".py",
   "mimetype": "text/x-python",
   "name": "python",
   "nbconvert_exporter": "python",
   "pygments_lexer": "ipython3",
   "version": "3.12.9"
  }
 },
 "nbformat": 4,
 "nbformat_minor": 5
}
