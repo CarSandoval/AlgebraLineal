{
 "cells": [
  {
   "cell_type": "markdown",
   "id": "1677b42a-6607-4284-b63b-cd4bedd2ae1a",
   "metadata": {},
   "source": [
    "# 3.2 Combinación lineal"
   ]
  },
  {
   "cell_type": "markdown",
   "id": "87322fdc",
   "metadata": {
    "vscode": {
     "languageId": "plaintext"
    }
   },
   "source": [
    "## 3.2.1 Definición de combinación lineal"
   ]
  },
  {
   "cell_type": "markdown",
   "id": "8e65f975",
   "metadata": {
    "vscode": {
     "languageId": "plaintext"
    }
   },
   "source": [
    "Dado un espacio vectorial $ V $ sobre un campo $ K $, y vectores $ v_1, v_2, \\ldots, v_n \\in V $, una **combinación lineal** de estos vectores es cualquier expresión de la forma:\n",
    "\n",
    "$$\n",
    "\\alpha_1 v_1 + \\alpha_2 v_2 + \\cdots + \\alpha_n v_n\n",
    "$$\n",
    "\n",
    "donde $ \\alpha_1, \\alpha_2, \\ldots, \\alpha_n $ son escalares en $ K $.\n",
    "\n",
    "En otras palabras, una combinación lineal es una suma de múltiples vectores multiplicados cada uno por un escalar. El concepto de combinación lineal es fundamental para definir independencia lineal, base y dimensión de un espacio vectorial."
   ]
  },
  {
   "cell_type": "markdown",
   "id": "42db4d9f",
   "metadata": {
    "vscode": {
     "languageId": "plaintext"
    }
   },
   "source": [
    "## 3.2.2 Ejemplo de combinacion lineal con vectores"
   ]
  },
  {
   "cell_type": "markdown",
   "id": "713e4fce",
   "metadata": {
    "vscode": {
     "languageId": "plaintext"
    }
   },
   "source": [
    "Considera el espacio vectorial $ \\mathbb{R}^3 / \\mathbb{R} $:\n",
    "\n",
    "$$\n",
    "v_1 = (1, 0, 2), \\quad v_2 = (0, 1, -1), \\quad v_3 = (2, 1, 1)\n",
    "$$\n",
    "\n",
    "Una combinación lineal de estos vectores, usando los escalares $ \\alpha_1 = 2 $, $ \\alpha_2 = -1 $ y $ \\alpha_3 = 3 $, es:\n",
    "\n",
    "$$\n",
    "2 v_1 + (-1) v_2 + 3 v_3 = \n",
    "2 (1, 0, 2) + (-1)(0, 1, -1) + 3 (2, 1, 1)\n",
    "$$\n",
    "\n",
    "$$\n",
    "= (2, 0, 4) + (0, -1, 1) + (6, 3, 3)\n",
    "$$\n",
    "\n",
    "$$\n",
    "= (2 + 0 + 6,\\, 0 - 1 + 3,\\, 4 + 1 + 3) = (8, 2, 8)\n",
    "$$\n"
   ]
  },
  {
   "cell_type": "markdown",
   "id": "f668b78d",
   "metadata": {
    "vscode": {
     "languageId": "plaintext"
    }
   },
   "source": [
    "## 3.2.3 Ejemplo de combinación lineal con matrices"
   ]
  },
  {
   "cell_type": "markdown",
   "id": "6f7285b3",
   "metadata": {
    "vscode": {
     "languageId": "plaintext"
    }
   },
   "source": [
    "Considera el espacio vectorial de las matrices de $ 2 \\times 2 $ sobre $\\mathbb{R}^2 $:\n",
    "\n",
    "$$\n",
    "A_1 = \\begin{pmatrix}\n",
    "1 & 2 \\\\\n",
    "0 & 1 \\\\\n",
    "\\end{pmatrix},\n",
    "\\quad\n",
    "A_2 = \\begin{pmatrix}\n",
    "0 & -1 \\\\\n",
    "2 & 1 \\\\\n",
    "\\end{pmatrix}\n",
    "$$\n",
    "\n",
    "Tomando escalares $ \\lambda_1 = 3 $ y $ \\lambda_2 = 4 $, una combinación lineal es:\n",
    "\n",
    "$$\n",
    "3 A_1 + 4 A_2 = \n",
    "3 \\begin{pmatrix}\n",
    "1 & 2 \\\\\n",
    "0 & 1 \\\\\n",
    "\\end{pmatrix}\n",
    "+ 4 \\begin{pmatrix}\n",
    "0 & -1 \\\\\n",
    "2 & 1 \\\\\n",
    "\\end{pmatrix}\n",
    "$$\n",
    "\n",
    "$$\n",
    "= \\begin{pmatrix}\n",
    "3 & 6 \\\\\n",
    "0 & 3 \\\\\n",
    "\\end{pmatrix}\n",
    "+ \\begin{pmatrix}\n",
    "0 & -4 \\\\\n",
    "8 & 4 \\\\\n",
    "\\end{pmatrix}\n",
    "$$\n",
    "\n",
    "$$\n",
    "= \\begin{pmatrix}\n",
    "3+0 & 6+(-4) \\\\\n",
    "0+8 & 3+4 \\\\\n",
    "\\end{pmatrix}\n",
    "= \\begin{pmatrix}\n",
    "3 & 2 \\\\\n",
    "8 & 7 \\\\\n",
    "\\end{pmatrix}\n",
    "$$\n",
    "\n",
    "Así, $ \\begin{pmatrix} 3 & 2 \\\\ 8 & 7 \\end{pmatrix} $ es una combinación lineal de las matrices $ A_1 $ y $ A_2 $."
   ]
  },
  {
   "cell_type": "markdown",
   "id": "c7df63cd",
   "metadata": {
    "vscode": {
     "languageId": "plaintext"
    }
   },
   "source": [
    "## 3.2.4 Relacion entre las combinaciones lineales y la mutiplicacion de una matriz con un vector"
   ]
  },
  {
   "cell_type": "markdown",
   "id": "da2db576",
   "metadata": {},
   "source": [
    "\n",
    "\n",
    "La multiplicación de una matriz por un vector es una forma particular y sumamente importante de **combinación lineal**.  \n",
    "Supongamos que $ A $ es una matriz de tamaño $ m \\times n $ con columnas $ A_1, A_2, \\ldots, A_n $, y $ x $ es un vector en $ K^n $ (con componentes $ x_1, x_2, \\ldots, x_n $):\n",
    "\n",
    "$$\n",
    "A = \\begin{pmatrix}\n",
    "| & | & & | \\\\\n",
    "A_1 & A_2 & \\cdots & A_n \\\\\n",
    "| & | & & | \\\\\n",
    "\\end{pmatrix},\n",
    "\\quad\n",
    "x = \\begin{pmatrix}\n",
    "x_1 \\\\\n",
    "x_2 \\\\\n",
    "\\vdots \\\\\n",
    "x_n \\\\\n",
    "\\end{pmatrix}\n",
    "$$\n",
    "\n",
    "La multiplicación $ A x $ se define como:\n",
    "\n",
    "$$\n",
    "A x = x_1 A_1 + x_2 A_2 + \\cdots + x_n A_n\n",
    "$$\n",
    "\n",
    "Es decir, **el resultado de multiplicar una matriz por un vector es la combinación lineal de las columnas de la matriz**, usando como coeficientes los componentes del vector.\n",
    "\n",
    "\n",
    "### Ejemplo\n",
    "\n",
    "Si\n",
    "\n",
    "$$\n",
    "A = \\begin{pmatrix}\n",
    "2 & 1 \\\\\n",
    "3 & 4 \\\\\n",
    "\\end{pmatrix}, \\quad\n",
    "x = \\begin{pmatrix}\n",
    "5 \\\\\n",
    "-2 \\\\\n",
    "\\end{pmatrix}\n",
    "$$\n",
    "\n",
    "Entonces\n",
    "\n",
    "$$\n",
    "A x = 5 \\begin{pmatrix} 2 \\\\ 3 \\end{pmatrix} + (-2) \\begin{pmatrix} 1 \\\\ 4 \\end{pmatrix}\n",
    "= \\begin{pmatrix} 10 \\\\ 15 \\end{pmatrix} + \\begin{pmatrix} -2 \\\\ -8 \\end{pmatrix}\n",
    "= \\begin{pmatrix} 8 \\\\ 7 \\end{pmatrix}\n",
    "$$\n",
    "\n",
    "\n",
    "\n",
    "### Importancia\n",
    "\n",
    "Esta relación es fundamental en álgebra lineal, ya que permite interpretar muchos problemas en términos de combinaciones lineales. Por ejemplo:\n",
    "- Resolver el sistema $ A x = b $ significa buscar si el vector $ b $ se puede escribir como una combinación lineal de las columnas de $ A $.\n",
    "- La noción de independencia lineal y el concepto de rango de una matriz están relacionados directamente con las combinaciones lineales de sus columnas.\n",
    "\n",
    "Así, la multiplicación matriz-­vector conecta directamente la teoría de combinaciones lineales con aplicaciones prácticas en sistemas de ecuaciones, geometría y más.\n"
   ]
  }
 ],
 "metadata": {
  "kernelspec": {
   "display_name": "Python 3 (ipykernel)",
   "language": "python",
   "name": "python3"
  },
  "language_info": {
   "codemirror_mode": {
    "name": "ipython",
    "version": 3
   },
   "file_extension": ".py",
   "mimetype": "text/x-python",
   "name": "python",
   "nbconvert_exporter": "python",
   "pygments_lexer": "ipython3",
   "version": "3.12.9"
  }
 },
 "nbformat": 4,
 "nbformat_minor": 5
}
