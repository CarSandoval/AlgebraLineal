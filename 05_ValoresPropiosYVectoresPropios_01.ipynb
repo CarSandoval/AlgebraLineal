{
 "cells": [
  {
   "cell_type": "markdown",
   "id": "da316c1a-a33b-4696-b819-09cadc9eafc3",
   "metadata": {},
   "source": [
    "# 5.1 Definición de valores propios y vectores propios"
   ]
  },
  {
   "cell_type": "markdown",
   "id": "3e9c636a",
   "metadata": {
    "vscode": {
     "languageId": "plaintext"
    }
   },
   "source": [
    "## 5.1.1 Definición de valores y vectores propios"
   ]
  },
  {
   "cell_type": "markdown",
   "id": "f779657c",
   "metadata": {},
   "source": [
    "Dada una matriz cuadrada $A$ de tamaño $n \\times n$, un **valor propio** (o **autovalor**, o **eigenvalor**) es un número $\\lambda$ tal que existe un **vector no nulo** $v$ (llamado **vector propio**) con la propiedad:\n",
    "\n",
    "$$\n",
    "A v = \\lambda v\n",
    "$$\n",
    "\n",
    "En otras palabras, aplicar $A$ a $v$ simplemente lo **estira o invierte** por un factor $\\lambda$, pero no cambia su dirección.\n"
   ]
  },
  {
   "cell_type": "markdown",
   "id": "1cb3b277",
   "metadata": {
    "vscode": {
     "languageId": "plaintext"
    }
   },
   "source": [
    "## 5.1.2 Cálculo de valores propios en $\\mathbb{R}^n$\n",
    "\n",
    "Para hallar los valores propios de una matriz $A \\in \\mathbb{R}^{n \\times n}$, resolvemos la ecuación característica:\n",
    "$$\n",
    "\\det(A - \\lambda I) = 0\n",
    "$$\n",
    "donde $I$ es la matriz identidad de $n \\times n$ y $\\lambda$ es un escalar.  \n",
    "Las soluciones $\\lambda$ son los **valores propios** de $A$.\n"
   ]
  }
 ],
 "metadata": {
  "kernelspec": {
   "display_name": "Python 3 (ipykernel)",
   "language": "python",
   "name": "python3"
  },
  "language_info": {
   "codemirror_mode": {
    "name": "ipython",
    "version": 3
   },
   "file_extension": ".py",
   "mimetype": "text/x-python",
   "name": "python",
   "nbconvert_exporter": "python",
   "pygments_lexer": "ipython3",
   "version": "3.12.9"
  }
 },
 "nbformat": 4,
 "nbformat_minor": 5
}
