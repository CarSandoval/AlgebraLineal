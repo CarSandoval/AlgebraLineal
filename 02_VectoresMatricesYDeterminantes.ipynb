{
 "cells": [
  {
   "cell_type": "markdown",
   "id": "4acdbc4c-dfb3-4aeb-a06e-ac42a47909c7",
   "metadata": {},
   "source": [
    "# 2 Vectores Matrices y Determinantes"
   ]
  },
  {
   "cell_type": "markdown",
   "id": "f824c07f",
   "metadata": {
    "vscode": {
     "languageId": "plaintext"
    }
   },
   "source": [
    "Cuando trabajamos con matrices, una de las herramientas fundamentales en álgebra lineal es el **determinante**. Intuitivamente, el determinante es un número asociado a una matriz cuadrada (una matriz con el mismo número de filas y columnas) que **resume información importante** sobre dicha matriz.\n",
    "\n",
    "Por ejemplo:\n",
    "\n",
    "- Para matrices **2x2**, el determinante se puede visualizar como el **área** del paralelogramo definido por los vectores fila (o columna).\n",
    "- Para matrices **3x3**, se relaciona con el **volumen** del paralelepípedo definido por sus vectores.\n",
    "- En general, nos dice si un sistema de ecuaciones tiene solución única, si una transformación lineal es invertible o no, y cómo cambia el \"espacio\" cuando aplicamos la matriz.\n",
    "\n",
    "\n",
    "<p align=\"center\">\n",
    " <a href=\"https://www.youtube.com/watch?v=yt3eoYvGel0\">\n",
    " <img src=\"https://img.youtube.com/vi/0Ndnzx6AyaA/0.jpg\">\n",
    " </a>\n",
    "</p>\n"
   ]
  }
 ],
 "metadata": {
  "kernelspec": {
   "display_name": "Python 3 (ipykernel)",
   "language": "python",
   "name": "python3"
  },
  "language_info": {
   "codemirror_mode": {
    "name": "ipython",
    "version": 3
   },
   "file_extension": ".py",
   "mimetype": "text/x-python",
   "name": "python",
   "nbconvert_exporter": "python",
   "pygments_lexer": "ipython3",
   "version": "3.12.9"
  }
 },
 "nbformat": 4,
 "nbformat_minor": 5
}
