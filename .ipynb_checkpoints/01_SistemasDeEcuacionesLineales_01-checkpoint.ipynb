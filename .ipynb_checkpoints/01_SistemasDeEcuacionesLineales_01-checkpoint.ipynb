{
 "cells": [
  {
   "cell_type": "markdown",
   "id": "98154f24-9af5-49f0-9792-cfeef79c9378",
   "metadata": {},
   "source": [
    "# 1.2 Metodo De Gauss y Gauss-Jordan"
   ]
  },
  {
   "cell_type": "markdown",
   "id": "4d27ac2c-e498-4507-9cbc-aefdc230f9bf",
   "metadata": {},
   "source": [
    "## 1.2.1 Método de Gauss "
   ]
  },
  {
   "cell_type": "markdown",
   "id": "f201c661-5e82-4bdc-b023-cb6e654c6791",
   "metadata": {},
   "source": [
    "## 1.2.2 Método de Gauss-Jordan"
   ]
  }
 ],
 "metadata": {
  "kernelspec": {
   "display_name": "Python 3 (ipykernel)",
   "language": "python",
   "name": "python3"
  },
  "language_info": {
   "codemirror_mode": {
    "name": "ipython",
    "version": 3
   },
   "file_extension": ".py",
   "mimetype": "text/x-python",
   "name": "python",
   "nbconvert_exporter": "python",
   "pygments_lexer": "ipython3",
   "version": "3.12.9"
  }
 },
 "nbformat": 4,
 "nbformat_minor": 5
}
