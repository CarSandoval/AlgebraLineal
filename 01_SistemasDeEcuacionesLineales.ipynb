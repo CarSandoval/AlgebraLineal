{
 "cells": [
  {
   "cell_type": "markdown",
   "id": "e5bb2dff-c729-4a56-b1ba-11b5f64f9e83",
   "metadata": {},
   "source": [
    "# 1 Sistemas de Ecuaciones Lineales"
   ]
  },
  {
   "cell_type": "markdown",
   "id": "8f70a7a2-92f4-45b3-b34e-b05e387866e1",
   "metadata": {},
   "source": [
    "A lo largo de la historia, resolver problemas ha significado, muchas veces, encontrar el valor de ciertas cantidades desconocidas a partir de la información que conocemos. Desde calcular la trayectoria de una nave espacial hasta determinar la combinación exacta de ingredientes en una receta, el arte de plantear y resolver ecuaciones ha sido una herramienta fundamental.\n",
    "\n",
    "Sin embargo, no todos los problemas pueden resolverse con una sola ecuación; en muchas situaciones, necesitamos analizar varias condiciones simultáneamente. Es aquí donde surgen los sistemas de ecuaciones, conjuntos de ecuaciones que deben cumplirse al mismo tiempo y que nos permiten modelar y resolver problemas mucho más complejos y realistas.\n",
    "\n",
    "Estudiar los sistemas de ecuaciones es el primer paso para adentrarse en el álgebra lineal, pues nos enfrentan con preguntas esenciales: ¿Siempre existe una solución? ¿Puede haber más de una? ¿Qué significa, desde un punto de vista geométrico, resolver un sistema? Las respuestas a estas preguntas no solo desarrollan nuestro pensamiento lógico, sino que nos abren la puerta a una visión más estructurada y poderosa de las matemáticas.\n",
    "\n",
    "En este capítulo, exploraremos los métodos clásicos y modernos para resolver sistemas de ecuaciones lineales, analizaremos cuándo un sistema es compatible o no, y descubriremos cómo estas ideas se conectan con conceptos más generales como los espacios vectoriales y las transformaciones lineales. El objetivo es que, más allá de aprender técnicas de solución, puedas comprender la importancia y el alcance de los sistemas de ecuaciones en el contexto del álgebra lineal y en la resolución de problemas reales.\n"
   ]
  },
  {
   "cell_type": "markdown",
   "id": "db64a0ea-6d6b-4154-9104-14174674f3cd",
   "metadata": {},
   "source": [
    "## Ejemplo 1\n",
    "\n",
    "En una cafetería, una taza de café y una rebanada de pastel cuestan juntos `$75`. Si dos tazas de café y tres rebanadas de pastel cuestan `$190`, ¿cuánto cuesta por separado cada producto?\n"
   ]
  },
  {
   "cell_type": "markdown",
   "id": "32d25469-a019-4a1a-a525-3b3a4f48ee70",
   "metadata": {},
   "source": [
    "## Solucion por sustitución"
   ]
  },
  {
   "cell_type": "markdown",
   "id": "63dc5359-cf77-4d47-b221-aa575d3462a2",
   "metadata": {},
   "source": [
    "El método por sustitución es una técnica para resolver sistemas de ecuaciones en la que se despeja una variable en una de las ecuaciones y se sustituye ese valor en la otra ecuación.\n",
    "Esto permite reducir el sistema de dos ecuaciones con dos incógnitas a una sola ecuación con una incógnita, que se puede resolver de forma sencilla."
   ]
  },
  {
   "cell_type": "markdown",
   "id": "ab26c6ef-cc54-4297-8c1e-89f09160afd5",
   "metadata": {},
   "source": [
    "### Utilizando el método\n",
    "Sea $x$ el precio de una taza de café y $y$ el precio de una rebanada de pastel. El sistema de ecuaciones es:\n",
    "\n",
    "$$\n",
    "\\begin{cases}\n",
    "x + y = 75 \\\\\n",
    "2x + 3y = 190\n",
    "\\end{cases}\n",
    "$$\n",
    "\n",
    "1. **Despejamos $x$ de la primera ecuación:**\n",
    "\n",
    "   $$\n",
    "   x + y = 75 \\implies x = 75 - y\n",
    "   $$\n",
    "\n",
    "2. **Sustituimos $x$ en la segunda ecuación:**\n",
    "\n",
    "   $$\n",
    "   2x + 3y = 190\n",
    "   $$\n",
    "\n",
    "   $$\n",
    "   2(75 - y) + 3y = 190\n",
    "   $$\n",
    "\n",
    "   $$\n",
    "   150 - 2y + 3y = 190\n",
    "   $$\n",
    "\n",
    "   $$\n",
    "   150 + y = 190\n",
    "   $$\n",
    "\n",
    "   $$\n",
    "   y = 190 - 150 = 40\n",
    "   $$\n",
    "\n",
    "3. **Sustituimos $y$ en la ecuación para $x$:**\n",
    "\n",
    "   $$\n",
    "   x = 75 - y = 75 - 40 = 35\n",
    "   $$\n",
    "\n",
    "### Respuesta\n",
    "\n",
    "El precio de una taza de café es **\\$35** y el de una rebanada de pastel es **\\$40**."
   ]
  },
  {
   "cell_type": "markdown",
   "id": "970837cf-c438-48f7-8ad8-ae72324931f8",
   "metadata": {},
   "source": [
    "## Solución por el metodo de suma y resta"
   ]
  },
  {
   "cell_type": "markdown",
   "id": "992bf2fd-7df6-4c60-9889-12f7449f40b6",
   "metadata": {},
   "source": [
    "El método de suma y resta es una técnica para resolver sistemas de ecuaciones lineales en la que buscamos eliminar una de las variables sumando o restando las ecuaciones, de modo que el sistema se reduzca a una sola ecuación con una incógnita.\n",
    "\n",
    "Pasos del método de suma y resta:\n",
    "1. Ajusta (si es necesario) los coeficientes de una de las variables en ambas ecuaciones, de manera que sean iguales o contrarios.\n",
    "\n",
    "2. A veces se multiplica una o ambas ecuaciones por un número para igualar los coeficientes.\n",
    "\n",
    "3. Suma o resta las ecuaciones (dependiendo de los signos) para que una variable se elimine.\n",
    "\n",
    "4. Al sumar o restar, uno de los términos desaparece y obtienes una ecuación con solo una incógnita.\n",
    "\n",
    "5. Resuelve la ecuación resultante para encontrar el valor de la incógnita.\n",
    "\n",
    "6. Sustituye el valor encontrado en una de las ecuaciones originales para hallar el valor de la otra incógnita.\n",
    "\n",
    "7. Verifica la solución en ambas ecuaciones originales (recomendado)."
   ]
  },
  {
   "cell_type": "markdown",
   "id": "e36de732-e91b-4257-8c8f-12100ea2c6aa",
   "metadata": {},
   "source": [
    "### Utilizando el método\n",
    "\n",
    "Recordemos el sistema de ecuaciones:\n",
    "\n",
    "$$\n",
    "\\begin{cases}\n",
    "x + y = 75 \\\\\n",
    "2x + 3y = 190\n",
    "\\end{cases}\n",
    "$$\n",
    "\n",
    "**1. Igualamos los coeficientes de una incógnita para poder eliminarla.**\n",
    "\n",
    "Multiplicamos la primera ecuación por $-2$ para que los coeficientes de $x$ sean opuestos:\n",
    "\n",
    "$$\n",
    "-2(x + y) = -2 \\times 75 \\\\\n",
    "-2x - 2y = -150\n",
    "$$\n",
    "\n",
    "Ahora tenemos:\n",
    "\n",
    "$$\n",
    "\\begin{cases}\n",
    "-2x - 2y = -150 \\\\\n",
    "2x + 3y = 190\n",
    "\\end{cases}\n",
    "$$\n",
    "\n",
    "**2. Sumamos las dos ecuaciones para eliminar $x$:**\n",
    "\n",
    "$$\n",
    "(-2x - 2y) + (2x + 3y) = -150 + 190\n",
    "$$\n",
    "\n",
    "$$\n",
    "(-2x + 2x) + (-2y + 3y) = 40\n",
    "$$\n",
    "\n",
    "$$\n",
    "0x + y = 40\n",
    "$$\n",
    "\n",
    "$$\n",
    "y = 40\n",
    "$$\n",
    "\n",
    "**3. Sustituimos el valor de $y$ en la primera ecuación para encontrar $x$:**\n",
    "\n",
    "$$\n",
    "x + y = 75 \\implies x + 40 = 75\n",
    "$$\n",
    "\n",
    "$$\n",
    "x = 75 - 40 = 35\n",
    "$$\n",
    "\n",
    "\n",
    "### Respuesta\n",
    "\n",
    "El precio de una taza de café es **\\$35** y el de una rebanada de pastel es **\\$40**."
   ]
  },
  {
   "cell_type": "markdown",
   "id": "8531e7c5-16c2-4c7f-8e85-5c23a2dd115a",
   "metadata": {},
   "source": [
    "## Metodo de solución grafico"
   ]
  },
  {
   "cell_type": "markdown",
   "id": "bc1d47ab-8be6-4941-90bf-bc98556e3e94",
   "metadata": {},
   "source": [
    "El método gráfico consiste en representar cada una de las ecuaciones del sistema como rectas en el plano cartesiano.\n",
    "La solución del sistema corresponde al punto (o puntos) de intersección de estas rectas, es decir, los valores de las incógnitas que satisfacen ambas ecuaciones al mismo tiempo.\n",
    "\n",
    "1. Despeja cada ecuación en la forma $y = mx + b$ (si es posible) para facilitar la graficación.\n",
    "2. Dibuja cada recta en el plano cartesiano utilizando, por ejemplo, el punto de intersección con los ejes o una tabla de valores.\n",
    "3. Observa el punto de intersección de las rectas:\n",
    "    - Si las rectas se cortan en un punto, ese punto $(x, y)$ es la solución única del sistema.\n",
    "    - Si las rectas son paralelas (no se cortan), el sistema no tiene solución (es incompatible).\n",
    "    - Si las rectas coinciden (son la misma recta), hay infinitas soluciones (el sistema es compatible indeterminado).\n",
    "4. Lee las coordenadas del punto de intersección para obtener el valor de las incógnitas."
   ]
  },
  {
   "cell_type": "markdown",
   "id": "eb8b06c6-1a2f-449d-80e3-dc68e9d12876",
   "metadata": {},
   "source": [
    "### Utilizando el método"
   ]
  },
  {
   "cell_type": "code",
   "execution_count": 2,
   "id": "93e6c2ad-d7c6-4a61-92e6-70967bf95c02",
   "metadata": {},
   "outputs": [
    {
     "data": {
      "application/vnd.jupyter.widget-view+json": {
       "model_id": "f45419c848714b238ab5d85f01288abc",
       "version_major": 2,
       "version_minor": 0
      },
      "text/plain": [
       "interactive(children=(FloatSlider(value=1.0, description='Pendiente (m)', max=5.0, min=-5.0), FloatSlider(valu…"
      ]
     },
     "metadata": {},
     "output_type": "display_data"
    }
   ],
   "source": [
    "import numpy as np\n",
    "import matplotlib.pyplot as plt\n",
    "from ipywidgets import interact, FloatSlider\n",
    "\n",
    "# Función para graficar la recta y = mx + b\n",
    "def plot_line(m, b):\n",
    "    x = np.linspace(-10, 10, 400)\n",
    "    y = m * x + b\n",
    "    \n",
    "    plt.figure(figsize=(6,4))\n",
    "    plt.plot(x, y, label=f'$y = {m:.2f}x + {b:.2f}$', color='royalblue')\n",
    "    plt.axhline(0, color='gray', linewidth=0.7)\n",
    "    plt.axvline(0, color='gray', linewidth=0.7)\n",
    "    plt.ylim(-20, 20)\n",
    "    plt.xlim(-10, 10)\n",
    "    plt.xlabel('$x$')\n",
    "    plt.ylabel('$y$')\n",
    "    plt.title('Gráfica de la recta $y = mx + b$')\n",
    "    plt.grid(True)\n",
    "    plt.legend()\n",
    "    plt.show()\n",
    "\n",
    "# Sliders para m y b\n",
    "interact(\n",
    "    plot_line,\n",
    "    m=FloatSlider(value=1.0, min=-5, max=5, step=0.1, description='Pendiente (m)'),\n",
    "    b=FloatSlider(value=0.0, min=-10, max=10, step=0.5, description='Intersección (b)')\n",
    ");\n"
   ]
  },
  {
   "cell_type": "markdown",
   "id": "a2e01db5-c126-47b3-9f97-0e3bdd65fb29",
   "metadata": {},
   "source": [
    "### URL interactivo\n",
    "[![Interactúa en Binder](https://mybinder.org/badge_logo.svg)](https://mybinder.org/v2/gh/CarSandoval/AlgebraLineal/main?filepath=01_SistemasDeEcuacionesLineales.ipynb)"
   ]
  }
 ],
 "metadata": {
  "kernelspec": {
   "display_name": "Python 3 (ipykernel)",
   "language": "python",
   "name": "python3"
  },
  "language_info": {
   "codemirror_mode": {
    "name": "ipython",
    "version": 3
   },
   "file_extension": ".py",
   "mimetype": "text/x-python",
   "name": "python",
   "nbconvert_exporter": "python",
   "pygments_lexer": "ipython3",
   "version": "3.12.9"
  }
 },
 "nbformat": 4,
 "nbformat_minor": 5
}
