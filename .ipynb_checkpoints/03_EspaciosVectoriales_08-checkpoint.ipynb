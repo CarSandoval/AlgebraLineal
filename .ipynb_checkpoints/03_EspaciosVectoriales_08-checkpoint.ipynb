{
 "cells": [
  {
   "cell_type": "markdown",
   "id": "1677b42a-6607-4284-b63b-cd4bedd2ae1a",
   "metadata": {},
   "source": [
    "# 3.8 Bases ortonormales"
   ]
  },
  {
   "cell_type": "markdown",
   "id": "de788d1c-cdae-4058-9c72-0e1fca04d34a",
   "metadata": {},
   "source": [
    "## 3.8.1 Ortogonalidad de vectores"
   ]
  },
  {
   "cell_type": "markdown",
   "id": "5a63b601-530f-4882-bba3-d58489ba7a96",
   "metadata": {},
   "source": [
    "## 3.8.2 Proceso de ortonormalización de GramSchmidt"
   ]
  }
 ],
 "metadata": {
  "kernelspec": {
   "display_name": "Python 3 (ipykernel)",
   "language": "python",
   "name": "python3"
  },
  "language_info": {
   "codemirror_mode": {
    "name": "ipython",
    "version": 3
   },
   "file_extension": ".py",
   "mimetype": "text/x-python",
   "name": "python",
   "nbconvert_exporter": "python",
   "pygments_lexer": "ipython3",
   "version": "3.12.9"
  }
 },
 "nbformat": 4,
 "nbformat_minor": 5
}
