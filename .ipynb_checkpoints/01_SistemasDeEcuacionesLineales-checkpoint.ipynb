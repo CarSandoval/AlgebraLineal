{
 "cells": [
  {
   "cell_type": "markdown",
   "id": "e5bb2dff-c729-4a56-b1ba-11b5f64f9e83",
   "metadata": {},
   "source": [
    "# 1 Sistemas de Ecuaciones Lineales"
   ]
  },
  {
   "cell_type": "markdown",
   "id": "8f70a7a2-92f4-45b3-b34e-b05e387866e1",
   "metadata": {},
   "source": [
    "A lo largo de la historia, resolver problemas ha significado, muchas veces, encontrar el valor de ciertas cantidades desconocidas a partir de la información que conocemos. Desde calcular la trayectoria de una nave espacial hasta determinar la combinación exacta de ingredientes en una receta, el arte de plantear y resolver ecuaciones ha sido una herramienta fundamental.\n",
    "\n",
    "Sin embargo, no todos los problemas pueden resolverse con una sola ecuación; en muchas situaciones, necesitamos analizar varias condiciones simultáneamente. Es aquí donde surgen los sistemas de ecuaciones, conjuntos de ecuaciones que deben cumplirse al mismo tiempo y que nos permiten modelar y resolver problemas mucho más complejos y realistas.\n",
    "\n",
    "Estudiar los sistemas de ecuaciones es el primer paso para adentrarse en el álgebra lineal, pues nos enfrentan con preguntas esenciales: ¿Siempre existe una solución? ¿Puede haber más de una? ¿Qué significa, desde un punto de vista geométrico, resolver un sistema? Las respuestas a estas preguntas no solo desarrollan nuestro pensamiento lógico, sino que nos abren la puerta a una visión más estructurada y poderosa de las matemáticas.\n",
    "\n",
    "En este capítulo, exploraremos los métodos clásicos y modernos para resolver sistemas de ecuaciones lineales, analizaremos cuándo un sistema es compatible o no, y descubriremos cómo estas ideas se conectan con conceptos más generales como los espacios vectoriales y las transformaciones lineales. El objetivo es que, más allá de aprender técnicas de solución, puedas comprender la importancia y el alcance de los sistemas de ecuaciones en el contexto del álgebra lineal y en la resolución de problemas reales.\n"
   ]
  },
  {
   "cell_type": "markdown",
   "id": "db64a0ea-6d6b-4154-9104-14174674f3cd",
   "metadata": {},
   "source": [
    "## Ejemplo 1\n",
    "\n",
    "En una cafetería, una taza de café y una rebanada de pastel cuestan juntos `$75`. Si dos tazas de café y tres rebanadas de pastel cuestan `$190`, ¿cuánto cuesta por separado cada producto?\n"
   ]
  },
  {
   "cell_type": "markdown",
   "id": "32d25469-a019-4a1a-a525-3b3a4f48ee70",
   "metadata": {},
   "source": [
    "## Solucion por sustitución"
   ]
  },
  {
   "cell_type": "markdown",
   "id": "ab26c6ef-cc54-4297-8c1e-89f09160afd5",
   "metadata": {},
   "source": [
    "Sea $x$ el precio de una taza de café y $y$ el precio de una rebanada de pastel. El sistema de ecuaciones es:\n",
    "\n",
    "$$\n",
    "\\begin{cases}\n",
    "x + y = 75 \\\\\n",
    "2x + 3y = 190\n",
    "\\end{cases}\n",
    "$$\n",
    "\n",
    "1. **Despejamos $x$ de la primera ecuación:**\n",
    "\n",
    "   $$\n",
    "   x + y = 75 \\implies x = 75 - y\n",
    "   $$\n",
    "\n",
    "2. **Sustituimos $x$ en la segunda ecuación:**\n",
    "\n",
    "   $$\n",
    "   2x + 3y = 190\n",
    "   $$\n",
    "\n",
    "   $$\n",
    "   2(75 - y) + 3y = 190\n",
    "   $$\n",
    "\n",
    "   $$\n",
    "   150 - 2y + 3y = 190\n",
    "   $$\n",
    "\n",
    "   $$\n",
    "   150 + y = 190\n",
    "   $$\n",
    "\n",
    "   $$\n",
    "   y = 190 - 150 = 40\n",
    "   $$\n",
    "\n",
    "3. **Sustituimos $y$ en la ecuación para $x$:**\n",
    "\n",
    "   $$\n",
    "   x = 75 - y = 75 - 40 = 35\n",
    "   $$\n",
    "\n",
    "### Respuesta\n",
    "\n",
    "El precio de una taza de café es **\\$35** y el de una rebanada de pastel es **\\$40**."
   ]
  },
  {
   "cell_type": "markdown",
   "id": "970837cf-c438-48f7-8ad8-ae72324931f8",
   "metadata": {},
   "source": [
    "## Solución por el metodo de suma y resta"
   ]
  },
  {
   "cell_type": "markdown",
   "id": "e36de732-e91b-4257-8c8f-12100ea2c6aa",
   "metadata": {},
   "source": [
    "Recordemos el sistema de ecuaciones:\n",
    "\n",
    "$$\n",
    "\\begin{cases}\n",
    "x + y = 75 \\\\\n",
    "2x + 3y = 190\n",
    "\\end{cases}\n",
    "$$\n",
    "\n",
    "**1. Igualamos los coeficientes de una incógnita para poder eliminarla.**\n",
    "\n",
    "Multiplicamos la primera ecuación por $-2$ para que los coeficientes de $x$ sean opuestos:\n",
    "\n",
    "$$\n",
    "-2(x + y) = -2 \\times 75 \\\\\n",
    "-2x - 2y = -150\n",
    "$$\n",
    "\n",
    "Ahora tenemos:\n",
    "\n",
    "$$\n",
    "\\begin{cases}\n",
    "-2x - 2y = -150 \\\\\n",
    "2x + 3y = 190\n",
    "\\end{cases}\n",
    "$$\n",
    "\n",
    "**2. Sumamos las dos ecuaciones para eliminar $x$:**\n",
    "\n",
    "$$\n",
    "(-2x - 2y) + (2x + 3y) = -150 + 190\n",
    "$$\n",
    "\n",
    "$$\n",
    "(-2x + 2x) + (-2y + 3y) = 40\n",
    "$$\n",
    "\n",
    "$$\n",
    "0x + y = 40\n",
    "$$\n",
    "\n",
    "$$\n",
    "y = 40\n",
    "$$\n",
    "\n",
    "**3. Sustituimos el valor de $y$ en la primera ecuación para encontrar $x$:**\n",
    "\n",
    "$$\n",
    "x + y = 75 \\implies x + 40 = 75\n",
    "$$\n",
    "\n",
    "$$\n",
    "x = 75 - 40 = 35\n",
    "$$\n",
    "\n",
    "\n",
    "### Respuesta\n",
    "\n",
    "El precio de una taza de café es **\\$35** y el de una rebanada de pastel es **\\$40**."
   ]
  }
 ],
 "metadata": {
  "kernelspec": {
   "display_name": "Python 3 (ipykernel)",
   "language": "python",
   "name": "python3"
  },
  "language_info": {
   "codemirror_mode": {
    "name": "ipython",
    "version": 3
   },
   "file_extension": ".py",
   "mimetype": "text/x-python",
   "name": "python",
   "nbconvert_exporter": "python",
   "pygments_lexer": "ipython3",
   "version": "3.12.9"
  }
 },
 "nbformat": 4,
 "nbformat_minor": 5
}
