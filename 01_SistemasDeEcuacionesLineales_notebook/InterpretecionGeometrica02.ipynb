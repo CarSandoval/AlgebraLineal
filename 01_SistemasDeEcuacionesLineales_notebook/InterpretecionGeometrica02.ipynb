{
 "cells": [
  {
   "cell_type": "markdown",
   "id": "607bcce0-91d7-4a32-bb6d-126a837cf85d",
   "metadata": {},
   "source": [
    "# Sistema de ecuaciones de 2x2\n",
    "\n",
    "En el siguiente grafico se resuelve el sistema de ecuaciones de 2x2:\n",
    "\n",
    "\\begin{cases}\n",
    "a_1 x + b_1 y = c_1 \\\\\n",
    "a_2 x + b_2 y = c_2 \n",
    "\\end{cases}\n"
   ]
  },
  {
   "cell_type": "code",
   "execution_count": 1,
   "id": "6ecc82e9-4f44-4ee3-9a5e-aaf75cf0c1b1",
   "metadata": {},
   "outputs": [
    {
     "data": {
      "application/vnd.jupyter.widget-view+json": {
       "model_id": "9dc6bd2f6e4b4b7cb1fead7888486bf1",
       "version_major": 2,
       "version_minor": 0
      },
      "text/plain": [
       "interactive(children=(FloatSlider(value=1.0, description='a₁', max=5.0, min=-5.0, step=1.0), FloatSlider(value…"
      ]
     },
     "metadata": {},
     "output_type": "display_data"
    }
   ],
   "source": [
    "import numpy as np\n",
    "import matplotlib.pyplot as plt\n",
    "from ipywidgets import interact, FloatSlider\n",
    "\n",
    "def plot_2x2(a1=1, b1=1, c1=2, a2=1, b2=-1, c2=0):\n",
    "    x = np.linspace(-10, 10, 400)\n",
    "    # Ecuación 1: a1*x + b1*y = c1  =>  y = (c1 - a1*x)/b1\n",
    "    # Ecuación 2: a2*x + b2*y = c2  =>  y = (c2 - a2*x)/b2\n",
    "    y1 = (c1 - a1 * x) / b1 if b1 != 0 else np.full_like(x, np.nan)\n",
    "    y2 = (c2 - a2 * x) / b2 if b2 != 0 else np.full_like(x, np.nan)\n",
    "\n",
    "    plt.figure(figsize=(7,5))\n",
    "    plt.plot(x, y1, label=f'{a1}x + {b1}y = {c1}', lw=2)\n",
    "    plt.plot(x, y2, label=f'{a2}x + {b2}y = {c2}', lw=2)\n",
    "    plt.xlim(-10, 10)\n",
    "    plt.ylim(-10, 10)\n",
    "    plt.axhline(0, color='grey', linewidth=1)\n",
    "    plt.axvline(0, color='grey', linewidth=1)\n",
    "    plt.grid(True, alpha=0.4)\n",
    "    plt.xlabel('$x$')\n",
    "    plt.ylabel('$y$')\n",
    "    plt.title('Sistema de ecuaciones 2x2')\n",
    "    \n",
    "    # Calcular intersección si es posible\n",
    "    A = np.array([[a1, b1], [a2, b2]])\n",
    "    C = np.array([c1, c2])\n",
    "    try:\n",
    "        sol = np.linalg.solve(A, C)\n",
    "        plt.plot(sol[0], sol[1], 'ro', label=f'Sol: ({sol[0]:.2f}, {sol[1]:.2f})')\n",
    "    except np.linalg.LinAlgError:\n",
    "        pass  # No hay solución única (paralelas o coincidentes)\n",
    "    \n",
    "    plt.legend()\n",
    "    plt.show()\n",
    "\n",
    "interact(\n",
    "    plot_2x2,\n",
    "    a1=FloatSlider(value=1, min=-5, max=5, step=1, description='a₁'),\n",
    "    b1=FloatSlider(value=1, min=-5, max=5, step=1, description='b₁'),\n",
    "    c1=FloatSlider(value=2, min=-10, max=10, step=1, description='c₁'),\n",
    "    a2=FloatSlider(value=1, min=-5, max=5, step=1, description='a₂'),\n",
    "    b2=FloatSlider(value=-1, min=-5, max=5, step=1, description='b₂'),\n",
    "    c2=FloatSlider(value=0, min=-10, max=10, step=1, description='c₂')\n",
    ");\n"
   ]
  },
  {
   "cell_type": "markdown",
   "id": "89ac823c-b739-4094-8fac-bb0a5ae8348b",
   "metadata": {},
   "source": [
    "# Sistemas de ecuaciones de 3x3\n",
    "\n",
    "En el siguiente grafico se resuelve el sistema de ecuaciones de 3 x 3:\n",
    "\n",
    "\\begin{cases}\n",
    "a_1 x + b_1 y + c_1 = d_1\\\\\n",
    "a_2 x + b_2 y + c_2 = d_2\\\\\n",
    "a_3 x + b_3 y + c_3 = d_3\\\\\n",
    "\\end{cases}\n"
   ]
  },
  {
   "cell_type": "code",
   "execution_count": 2,
   "id": "c0ae4502-7c3e-4643-8ee4-f2ca2b6175d0",
   "metadata": {},
   "outputs": [
    {
     "data": {
      "application/vnd.jupyter.widget-view+json": {
       "model_id": "095b1cd180534af7a8643302e4727210",
       "version_major": 2,
       "version_minor": 0
      },
      "text/plain": [
       "interactive(children=(FloatSlider(value=1.0, description='a₁', max=5.0, min=-5.0, step=1.0), FloatSlider(value…"
      ]
     },
     "metadata": {},
     "output_type": "display_data"
    }
   ],
   "source": [
    "import numpy as np\n",
    "import matplotlib.pyplot as plt\n",
    "from mpl_toolkits.mplot3d import Axes3D\n",
    "from ipywidgets import interact, FloatSlider\n",
    "\n",
    "def plot_planes_3x3(a1=1, b1=1, c1=1, d1=6,\n",
    "                    a2=1, b2=-1, c2=1, d2=2,\n",
    "                    a3=2, b3=1, c3=3, d3=13):\n",
    "    fig = plt.figure(figsize=(9,7))\n",
    "    ax = fig.add_subplot(111, projection='3d')\n",
    "    \n",
    "    # Rango para graficar\n",
    "    x = np.linspace(-10, 10, 15)\n",
    "    y = np.linspace(-10, 10, 15)\n",
    "    X, Y = np.meshgrid(x, y)\n",
    "    \n",
    "    # Evita divisiones por cero\n",
    "    if c1 != 0:\n",
    "        Z1 = (d1 - a1*X - b1*Y) / c1\n",
    "        ax.plot_surface(X, Y, Z1, alpha=0.5, color='royalblue', label=\"Plano 1\")\n",
    "    if c2 != 0:\n",
    "        Z2 = (d2 - a2*X - b2*Y) / c2\n",
    "        ax.plot_surface(X, Y, Z2, alpha=0.5, color='orange', label=\"Plano 2\")\n",
    "    if c3 != 0:\n",
    "        Z3 = (d3 - a3*X - b3*Y) / c3\n",
    "        ax.plot_surface(X, Y, Z3, alpha=0.5, color='green', label=\"Plano 3\")\n",
    "        \n",
    "    # Intentar encontrar la intersección (solución)\n",
    "    A = np.array([\n",
    "        [a1, b1, c1],\n",
    "        [a2, b2, c2],\n",
    "        [a3, b3, c3]\n",
    "    ])\n",
    "    D = np.array([d1, d2, d3])\n",
    "    try:\n",
    "        sol = np.linalg.solve(A, D)\n",
    "        ax.scatter(*sol, color='red', s=80, label=\"Solución\")\n",
    "        ax.text(sol[0], sol[1], sol[2], f\"({sol[0]:.2f}, {sol[1]:.2f}, {sol[2]:.2f})\", color='red', fontsize=13)\n",
    "    except np.linalg.LinAlgError:\n",
    "        pass  # No solución única (planos paralelos o coincidentes)\n",
    "    \n",
    "    ax.set_xlabel('$x$')\n",
    "    ax.set_ylabel('$y$')\n",
    "    ax.set_zlabel('$z$')\n",
    "    ax.set_title('Sistema de ecuaciones 3x3 (Intersección de planos)')\n",
    "    ax.set_xlim(-10,10)\n",
    "    ax.set_ylim(-10,10)\n",
    "    ax.set_zlim(-10,10)\n",
    "    plt.legend(['Plano 1', 'Plano 2', 'Plano 3', 'Solución'])\n",
    "    plt.show()\n",
    "\n",
    "interact(\n",
    "    plot_planes_3x3,\n",
    "    a1=FloatSlider(value=1, min=-5, max=5, step=1, description='a₁'),\n",
    "    b1=FloatSlider(value=1, min=-5, max=5, step=1, description='b₁'),\n",
    "    c1=FloatSlider(value=1, min=-5, max=5, step=1, description='c₁'),\n",
    "    d1=FloatSlider(value=6, min=-20, max=20, step=1, description='d₁'),\n",
    "    a2=FloatSlider(value=1, min=-5, max=5, step=1, description='a₂'),\n",
    "    b2=FloatSlider(value=-1, min=-5, max=5, step=1, description='b₂'),\n",
    "    c2=FloatSlider(value=1, min=-5, max=5, step=1, description='c₂'),\n",
    "    d2=FloatSlider(value=2, min=-20, max=20, step=1, description='d₂'),\n",
    "    a3=FloatSlider(value=2, min=-5, max=5, step=1, description='a₃'),\n",
    "    b3=FloatSlider(value=1, min=-5, max=5, step=1, description='b₃'),\n",
    "    c3=FloatSlider(value=3, min=-5, max=5, step=1, description='c₃'),\n",
    "    d3=FloatSlider(value=13, min=-20, max=20, step=1, description='d₃')\n",
    ");\n"
   ]
  }
 ],
 "metadata": {
  "kernelspec": {
   "display_name": "Python 3 (ipykernel)",
   "language": "python",
   "name": "python3"
  },
  "language_info": {
   "codemirror_mode": {
    "name": "ipython",
    "version": 3
   },
   "file_extension": ".py",
   "mimetype": "text/x-python",
   "name": "python",
   "nbconvert_exporter": "python",
   "pygments_lexer": "ipython3",
   "version": "3.10.18"
  }
 },
 "nbformat": 4,
 "nbformat_minor": 5
}
