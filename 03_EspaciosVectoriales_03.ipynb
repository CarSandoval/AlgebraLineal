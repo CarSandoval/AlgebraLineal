{
 "cells": [
  {
   "cell_type": "markdown",
   "id": "1677b42a-6607-4284-b63b-cd4bedd2ae1a",
   "metadata": {},
   "source": [
    "# 3.3 Conjunto generador (span)"
   ]
  },
  {
   "cell_type": "markdown",
   "id": "7ca083b9",
   "metadata": {},
   "source": [
    "## 3.3.1 Definición de Span o conjunto generado"
   ]
  },
  {
   "cell_type": "markdown",
   "id": "2a282330",
   "metadata": {
    "vscode": {
     "languageId": "plaintext"
    }
   },
   "source": [
    "El **span** (o **conjunto generado**) de un conjunto de vectores $ S = \\{v_1, v_2, \\ldots, v_n\\} $ en un espacio vectorial $ V $ sobre un campo $ K $ es el conjunto de **todas las combinaciones lineales posibles** de los vectores de $ S $. Se denota por $ \\text{span}(S) $ o $ \\langle S \\rangle $.\n",
    "\n",
    "Formalmente:\n",
    "\n",
    "$$\n",
    "\\text{span}(S) = \\left\\{ \\alpha_1 v_1 + \\alpha_2 v_2 + \\cdots + \\alpha_n v_n \\;\\middle|\\; \\alpha_1, \\ldots, \\alpha_n \\in K \\right\\}\n",
    "$$\n",
    "\n",
    "El span de $ S $ es el **subespacio vectorial más pequeño que contiene a $ S $**.\n",
    "\n",
    "\n",
    "### Ejemplo del span de 2 vectores en $ \\mathbb{R}^3 $\n",
    "\n",
    "Sean \n",
    "$$\n",
    "v_1 = (1, 0, 0), \\quad v_2 = (0, 1, 0)\n",
    "$$\n",
    "\n",
    "Entonces\n",
    "$$\n",
    "\\text{span}\\{v_1, v_2\\} = \\{ \\alpha_1 (1, 0, 0) + \\alpha_2 (0, 1, 0) \\mid \\alpha_1, \\alpha_2 \\in \\mathbb{R} \\} = \\{ (a, b, 0) \\mid a, b \\in \\mathbb{R} \\}\n",
    "$$\n",
    "\n",
    "Es decir, todas las combinaciones lineales de $ v_1 $ y $ v_2 $ llenan el **plano $ xy $** en $ \\mathbb{R}^3 $.\n",
    "\n",
    "\n",
    "\n",
    "### Otro ejemplo del span de 2 vectores en $ \\mathbb{R}^3 $\n",
    "\n",
    "Sean\n",
    "$$\n",
    "u_1 = (1, 2, 3), \\quad u_2 = (2, 4, 6)\n",
    "$$\n",
    "\n",
    "Observa que $ u_2 = 2u_1 $, así que son linealmente dependientes.\n",
    "\n",
    "Entonces\n",
    "$$\n",
    "\\text{span}\\{u_1, u_2\\} = \\{ \\alpha_1 u_1 + \\alpha_2 u_2 \\mid \\alpha_1, \\alpha_2 \\in \\mathbb{R} \\}\n",
    "$$\n",
    "pero cualquier combinación lineal de $ u_1 $ y $ u_2 $ es en realidad un múltiplo de $ u_1 $:\n",
    "$$\n",
    "\\alpha_1 u_1 + \\alpha_2 u_2 = \\alpha_1 u_1 + \\alpha_2 (2u_1) = (\\alpha_1 + 2\\alpha_2) u_1\n",
    "$$\n",
    "\n",
    "Por lo tanto, el span es **la recta** que pasa por el origen en la dirección de $ (1,2,3) $.\n",
    "\n",
    "### Preguntas detonadoras\n",
    "\n",
    "- ¿De que depende la forma del span?\n",
    "- ¿Cómo afectan la cantidad de vectores a la forma del span?\n",
    "- ¿El Span solo depende de la cantidad de vectores?\n",
    "- ¿Cómo podemo predecir la forma del span?\n"
   ]
  },
  {
   "cell_type": "markdown",
   "id": "0f32f7a9",
   "metadata": {},
   "source": [
    "## 3.3.2 Conjunto generador"
   ]
  },
  {
   "cell_type": "markdown",
   "id": "846b8779",
   "metadata": {
    "vscode": {
     "languageId": "plaintext"
    }
   },
   "source": [
    "\n",
    "Un **conjunto generador** de un subespacio vectorial $W$ es un subconjunto $S \\subseteq W$ tal que todas las combinaciones lineales de los elementos de $S$ generan todo $W$, es decir, $W = \\text{span}(S)$.\n",
    "\n",
    "\n",
    "\n",
    "### Ejemplo de un conjunto generador de un subespacio vectorial en $\\mathbb{R}^3$\n",
    "\n",
    "Considera el siguiente subconjunto de $\\mathbb{R}^3  / \\mathbb{R} $:\n",
    "\n",
    "$$\n",
    "W = \\{ (a, a, a) \\mid a \\in \\mathbb{R} \\}\n",
    "$$\n",
    "\n",
    "Es decir, $W$ es el conjunto de todos los vectores en $\\mathbb{R}^3$ cuyas tres entradas son iguales.\n",
    "\n",
    "**Verifiquemos que $W$ es un subespacio vectorial:**\n",
    "- El vector cero $(0, 0, 0)$ pertenece a $W$ (eligiendo $a = 0$).\n",
    "- Si $(a, a, a)$ y $(b, b, b)$ están en $W$, su suma es $(a+b, a+b, a+b)$, que sigue en $W$.\n",
    "- Si $k \\in \\mathbb{R}$ y $(a, a, a) \\in W$, entonces $k(a, a, a) = (ka, ka, ka) \\in W$.\n",
    "\n",
    "\n",
    "Además, **todo vector en $ W $ es múltiplo de $(1,1,1)$**, así que $W = \\text{span}\\{(1,1,1)\\}$.  \n",
    "Por lo tanto, $W$ es un subespacio de dimensión 1 generado por $ \\{  (1,1,1) \\} $\n",
    "\n",
    "¿Existe algun otro conjunto generador de $ W $?\n",
    "\n",
    "### Ejemplo de un conjunto generador de un subespacio vectorial en $M_{2\\times2}(\\mathbb{R})$ de dimensión 3\n",
    "\n",
    "Considera el subconjunto $W$ de todas las matrices $2 \\times 2$ de la forma:\n",
    "$$\n",
    "W = \\left\\{ \n",
    "\\begin{pmatrix}\n",
    "a & b \\\\\n",
    "c & 0 \\\\\n",
    "\\end{pmatrix}\n",
    "\\;\\middle|\\; a, b, c \\in \\mathbb{R} \n",
    "\\right\\}\n",
    "$$\n",
    "\n",
    "Es decir, $W$ es el conjunto de todas las matrices reales $2 \\times 2$ cuya entrada $(2,2)$ es siempre cero.\n",
    "\n",
    "**Verifiquemos que $W$ es un subespacio vectorial:**\n",
    "- La matriz cero está en $W$ (elige $a = b = c = 0$).\n",
    "- La suma de dos matrices en $W$ sigue en $W$.\n",
    "- Cualquier múltiplo escalar de una matriz en $W$ sigue en $W$.\n",
    "\n",
    "Un conjunto generador natural para $W$ es:\n",
    "$$\n",
    "S = \\left\\{\n",
    "\\begin{pmatrix}\n",
    "1 & 0 \\\\\n",
    "0 & 0 \\\\\n",
    "\\end{pmatrix},\n",
    "\\begin{pmatrix}\n",
    "0 & 1 \\\\\n",
    "0 & 0 \\\\\n",
    "\\end{pmatrix},\n",
    "\\begin{pmatrix}\n",
    "0 & 0 \\\\\n",
    "1 & 0 \\\\\n",
    "\\end{pmatrix}\n",
    "\\right\\}\n",
    "$$\n",
    "\n",
    "¿Son esos elementos en $ S $ suficientes para generar $ W $ ?.\n",
    "\n",
    "\n",
    "\n",
    "### Preguntas \n",
    "\n",
    "1. Si tienes varios vectores en un espacio vectorial, ¿es posible que algunos puedan escribirse como combinación lineal de los otros?\n",
    "2. ¿Siempre necesitas todos los vectores de un conjunto generador para obtener cualquier elemento del subespacio que generan?\n",
    "3. ¿Qué sucede si agregas más vectores a un conjunto generador de un subespacio? ¿Obtienes nuevos vectores o puedes obtener los mismos de antes?\n",
    "4. ¿Podrías encontrar un subconjunto más pequeño de un conjunto generador que todavía genere el mismo subespacio?\n",
    "5. ¿Cómo puedes saber cuál es el \"mínimo\" número de vectores necesarios para generar un subespacio?\n",
    "6. Si dos conjuntos diferentes de vectores generan el mismo subespacio, ¿qué pueden tener en común?\n",
    "7. ¿Qué características tienen los conjuntos de vectores que generan \"rectas\", \"planos\" o todo el espacio?\n",
    "8. ¿Qué relación existe entre los generadores de un subespacio y la posibilidad de expresar cualquier vector del subespacio de manera única?\n",
    "9. ¿En qué casos un conjunto de generadores contiene vectores \"de más\"?\n",
    "10. ¿Qué ventajas tendría contar con el menor número posible de vectores para describir completamente un subespacio?\n",
    "\n"
   ]
  }
 ],
 "metadata": {
  "kernelspec": {
   "display_name": "Python 3 (ipykernel)",
   "language": "python",
   "name": "python3"
  },
  "language_info": {
   "codemirror_mode": {
    "name": "ipython",
    "version": 3
   },
   "file_extension": ".py",
   "mimetype": "text/x-python",
   "name": "python",
   "nbconvert_exporter": "python",
   "pygments_lexer": "ipython3",
   "version": "3.12.9"
  }
 },
 "nbformat": 4,
 "nbformat_minor": 5
}
