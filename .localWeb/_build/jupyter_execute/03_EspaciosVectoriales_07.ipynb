{
 "cells": [
  {
   "cell_type": "markdown",
   "id": "1677b42a-6607-4284-b63b-cd4bedd2ae1a",
   "metadata": {},
   "source": [
    "# 3.7 Cambio de base"
   ]
  },
  {
   "cell_type": "markdown",
   "id": "c9b3a92d-c8b7-4185-85e7-fff19d9d109b",
   "metadata": {},
   "source": [
    "## 3.7.1. De canónica a no canónica"
   ]
  },
  {
   "cell_type": "markdown",
   "id": "1dfd6d6d-a889-4eda-bcda-9fc0ad44b5c1",
   "metadata": {},
   "source": [
    "## 3.7.2. De no canónica a canónica"
   ]
  },
  {
   "cell_type": "markdown",
   "id": "462b5a49-d994-4ee7-b628-60567e4cf7a9",
   "metadata": {},
   "source": [
    "## 3.7.3. De no canónica a no canónica"
   ]
  }
 ],
 "metadata": {
  "kernelspec": {
   "display_name": "Python 3 (ipykernel)",
   "language": "python",
   "name": "python3"
  },
  "language_info": {
   "codemirror_mode": {
    "name": "ipython",
    "version": 3
   },
   "file_extension": ".py",
   "mimetype": "text/x-python",
   "name": "python",
   "nbconvert_exporter": "python",
   "pygments_lexer": "ipython3",
   "version": "3.12.9"
  }
 },
 "nbformat": 4,
 "nbformat_minor": 5
}