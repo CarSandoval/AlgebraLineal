{
 "cells": [
  {
   "cell_type": "markdown",
   "id": "c53c14be-34c6-45d1-ac05-e9ee17445ec7",
   "metadata": {},
   "source": [
    "# 6 Referencias\n",
    "\n"
   ]
  },
  {
   "cell_type": "markdown",
   "id": "96e2e384-85d5-47b5-a424-319c96ba9422",
   "metadata": {},
   "source": [
    "[@hoffman1973algebra]\n",
    "<!-- [@hoffman1973algebra] -->"
   ]
  },
  {
   "cell_type": "markdown",
   "id": "dbe3e1fa-99f9-4da4-aba4-1757da99614e",
   "metadata": {},
   "source": [
    "<!-- Citas ocultas -->\n",
    "<!-- [@hoffman1973algebra] -->\n"
   ]
  }
 ],
 "metadata": {
  "kernelspec": {
   "display_name": "Python 3 (ipykernel)",
   "language": "python",
   "name": "python3"
  },
  "language_info": {
   "codemirror_mode": {
    "name": "ipython",
    "version": 3
   },
   "file_extension": ".py",
   "mimetype": "text/x-python",
   "name": "python",
   "nbconvert_exporter": "python",
   "pygments_lexer": "ipython3",
   "version": "3.12.9"
  }
 },
 "nbformat": 4,
 "nbformat_minor": 5
}